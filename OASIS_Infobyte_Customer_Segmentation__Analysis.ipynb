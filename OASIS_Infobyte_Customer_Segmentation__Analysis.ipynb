{
  "nbformat": 4,
  "nbformat_minor": 0,
  "metadata": {
    "colab": {
      "provenance": []
    },
    "kernelspec": {
      "name": "python3",
      "display_name": "Python 3"
    },
    "language_info": {
      "name": "python"
    }
  },
  "cells": [
    {
      "cell_type": "markdown",
      "source": [
        "#**Customer Segmentation  Analysis**"
      ],
      "metadata": {
        "id": "EWZTSnPpZfGb"
      }
    },
    {
      "cell_type": "markdown",
      "source": [
        "Data Collection"
      ],
      "metadata": {
        "id": "2dj7d-Sdl5M0"
      }
    },
    {
      "cell_type": "code",
      "execution_count": 1,
      "metadata": {
        "id": "lsNJSYduRMG6"
      },
      "outputs": [],
      "source": [
        "import pandas as pd\n",
        "from sklearn.preprocessing import StandardScaler\n",
        "from sklearn.cluster import KMeans\n",
        "from sklearn.metrics import silhouette_score\n",
        "import seaborn as sns\n",
        "import matplotlib.pyplot as plt"
      ]
    },
    {
      "cell_type": "code",
      "source": [
        "ifood = pd.read_csv('/content/ifood_df.csv')"
      ],
      "metadata": {
        "id": "9EXQnrguSWG7"
      },
      "execution_count": 2,
      "outputs": []
    },
    {
      "cell_type": "markdown",
      "source": [
        "Data Exploration and Cleaning"
      ],
      "metadata": {
        "id": "s5UedS_ImCO_"
      }
    },
    {
      "cell_type": "code",
      "source": [
        "print(ifood.info())"
      ],
      "metadata": {
        "colab": {
          "base_uri": "https://localhost:8080/"
        },
        "id": "CsD4CUspjfxD",
        "outputId": "fd588b93-7dbf-4916-ed9d-5878f14d2c56"
      },
      "execution_count": 3,
      "outputs": [
        {
          "output_type": "stream",
          "name": "stdout",
          "text": [
            "<class 'pandas.core.frame.DataFrame'>\n",
            "RangeIndex: 2205 entries, 0 to 2204\n",
            "Data columns (total 39 columns):\n",
            " #   Column                Non-Null Count  Dtype  \n",
            "---  ------                --------------  -----  \n",
            " 0   Income                2205 non-null   float64\n",
            " 1   Kidhome               2205 non-null   int64  \n",
            " 2   Teenhome              2205 non-null   int64  \n",
            " 3   Recency               2205 non-null   int64  \n",
            " 4   MntWines              2205 non-null   int64  \n",
            " 5   MntFruits             2205 non-null   int64  \n",
            " 6   MntMeatProducts       2205 non-null   int64  \n",
            " 7   MntFishProducts       2205 non-null   int64  \n",
            " 8   MntSweetProducts      2205 non-null   int64  \n",
            " 9   MntGoldProds          2205 non-null   int64  \n",
            " 10  NumDealsPurchases     2205 non-null   int64  \n",
            " 11  NumWebPurchases       2205 non-null   int64  \n",
            " 12  NumCatalogPurchases   2205 non-null   int64  \n",
            " 13  NumStorePurchases     2205 non-null   int64  \n",
            " 14  NumWebVisitsMonth     2205 non-null   int64  \n",
            " 15  AcceptedCmp3          2205 non-null   int64  \n",
            " 16  AcceptedCmp4          2205 non-null   int64  \n",
            " 17  AcceptedCmp5          2205 non-null   int64  \n",
            " 18  AcceptedCmp1          2205 non-null   int64  \n",
            " 19  AcceptedCmp2          2205 non-null   int64  \n",
            " 20  Complain              2205 non-null   int64  \n",
            " 21  Z_CostContact         2205 non-null   int64  \n",
            " 22  Z_Revenue             2205 non-null   int64  \n",
            " 23  Response              2205 non-null   int64  \n",
            " 24  Age                   2205 non-null   int64  \n",
            " 25  Customer_Days         2205 non-null   int64  \n",
            " 26  marital_Divorced      2205 non-null   int64  \n",
            " 27  marital_Married       2205 non-null   int64  \n",
            " 28  marital_Single        2205 non-null   int64  \n",
            " 29  marital_Together      2205 non-null   int64  \n",
            " 30  marital_Widow         2205 non-null   int64  \n",
            " 31  education_2n Cycle    2205 non-null   int64  \n",
            " 32  education_Basic       2205 non-null   int64  \n",
            " 33  education_Graduation  2205 non-null   int64  \n",
            " 34  education_Master      2205 non-null   int64  \n",
            " 35  education_PhD         2205 non-null   int64  \n",
            " 36  MntTotal              2205 non-null   int64  \n",
            " 37  MntRegularProds       2205 non-null   int64  \n",
            " 38  AcceptedCmpOverall    2205 non-null   int64  \n",
            "dtypes: float64(1), int64(38)\n",
            "memory usage: 672.0 KB\n",
            "None\n"
          ]
        }
      ]
    },
    {
      "cell_type": "code",
      "source": [
        "print(ifood.describe)"
      ],
      "metadata": {
        "colab": {
          "base_uri": "https://localhost:8080/"
        },
        "id": "8X9afalWj2g9",
        "outputId": "d8fbaa3e-cae2-4e4f-f892-51e7f4003890"
      },
      "execution_count": 4,
      "outputs": [
        {
          "output_type": "stream",
          "name": "stdout",
          "text": [
            "<bound method NDFrame.describe of        Income  Kidhome  Teenhome  Recency  MntWines  MntFruits  \\\n",
            "0     58138.0        0         0       58       635         88   \n",
            "1     46344.0        1         1       38        11          1   \n",
            "2     71613.0        0         0       26       426         49   \n",
            "3     26646.0        1         0       26        11          4   \n",
            "4     58293.0        1         0       94       173         43   \n",
            "...       ...      ...       ...      ...       ...        ...   \n",
            "2200  61223.0        0         1       46       709         43   \n",
            "2201  64014.0        2         1       56       406          0   \n",
            "2202  56981.0        0         0       91       908         48   \n",
            "2203  69245.0        0         1        8       428         30   \n",
            "2204  52869.0        1         1       40        84          3   \n",
            "\n",
            "      MntMeatProducts  MntFishProducts  MntSweetProducts  MntGoldProds  ...  \\\n",
            "0                 546              172                88            88  ...   \n",
            "1                   6                2                 1             6  ...   \n",
            "2                 127              111                21            42  ...   \n",
            "3                  20               10                 3             5  ...   \n",
            "4                 118               46                27            15  ...   \n",
            "...               ...              ...               ...           ...  ...   \n",
            "2200              182               42               118           247  ...   \n",
            "2201               30                0                 0             8  ...   \n",
            "2202              217               32                12            24  ...   \n",
            "2203              214               80                30            61  ...   \n",
            "2204               61                2                 1            21  ...   \n",
            "\n",
            "      marital_Together  marital_Widow  education_2n Cycle  education_Basic  \\\n",
            "0                    0              0                   0                0   \n",
            "1                    0              0                   0                0   \n",
            "2                    1              0                   0                0   \n",
            "3                    1              0                   0                0   \n",
            "4                    0              0                   0                0   \n",
            "...                ...            ...                 ...              ...   \n",
            "2200                 0              0                   0                0   \n",
            "2201                 1              0                   0                0   \n",
            "2202                 0              0                   0                0   \n",
            "2203                 1              0                   0                0   \n",
            "2204                 0              0                   0                0   \n",
            "\n",
            "      education_Graduation  education_Master  education_PhD  MntTotal  \\\n",
            "0                        1                 0              0      1529   \n",
            "1                        1                 0              0        21   \n",
            "2                        1                 0              0       734   \n",
            "3                        1                 0              0        48   \n",
            "4                        0                 0              1       407   \n",
            "...                    ...               ...            ...       ...   \n",
            "2200                     1                 0              0      1094   \n",
            "2201                     0                 0              1       436   \n",
            "2202                     1                 0              0      1217   \n",
            "2203                     0                 1              0       782   \n",
            "2204                     0                 0              1       151   \n",
            "\n",
            "      MntRegularProds  AcceptedCmpOverall  \n",
            "0                1441                   0  \n",
            "1                  15                   0  \n",
            "2                 692                   0  \n",
            "3                  43                   0  \n",
            "4                 392                   0  \n",
            "...               ...                 ...  \n",
            "2200              847                   0  \n",
            "2201              428                   1  \n",
            "2202             1193                   1  \n",
            "2203              721                   0  \n",
            "2204              130                   0  \n",
            "\n",
            "[2205 rows x 39 columns]>\n"
          ]
        }
      ]
    },
    {
      "cell_type": "code",
      "source": [
        "print(ifood.dtypes)"
      ],
      "metadata": {
        "colab": {
          "base_uri": "https://localhost:8080/"
        },
        "id": "4CEhQ3Agjk4I",
        "outputId": "b228e27f-cf89-44e5-d376-9decf1144730"
      },
      "execution_count": 5,
      "outputs": [
        {
          "output_type": "stream",
          "name": "stdout",
          "text": [
            "Income                  float64\n",
            "Kidhome                   int64\n",
            "Teenhome                  int64\n",
            "Recency                   int64\n",
            "MntWines                  int64\n",
            "MntFruits                 int64\n",
            "MntMeatProducts           int64\n",
            "MntFishProducts           int64\n",
            "MntSweetProducts          int64\n",
            "MntGoldProds              int64\n",
            "NumDealsPurchases         int64\n",
            "NumWebPurchases           int64\n",
            "NumCatalogPurchases       int64\n",
            "NumStorePurchases         int64\n",
            "NumWebVisitsMonth         int64\n",
            "AcceptedCmp3              int64\n",
            "AcceptedCmp4              int64\n",
            "AcceptedCmp5              int64\n",
            "AcceptedCmp1              int64\n",
            "AcceptedCmp2              int64\n",
            "Complain                  int64\n",
            "Z_CostContact             int64\n",
            "Z_Revenue                 int64\n",
            "Response                  int64\n",
            "Age                       int64\n",
            "Customer_Days             int64\n",
            "marital_Divorced          int64\n",
            "marital_Married           int64\n",
            "marital_Single            int64\n",
            "marital_Together          int64\n",
            "marital_Widow             int64\n",
            "education_2n Cycle        int64\n",
            "education_Basic           int64\n",
            "education_Graduation      int64\n",
            "education_Master          int64\n",
            "education_PhD             int64\n",
            "MntTotal                  int64\n",
            "MntRegularProds           int64\n",
            "AcceptedCmpOverall        int64\n",
            "dtype: object\n"
          ]
        }
      ]
    },
    {
      "cell_type": "code",
      "source": [
        "print(ifood.head())"
      ],
      "metadata": {
        "colab": {
          "base_uri": "https://localhost:8080/"
        },
        "id": "iiXHvy1Xj_En",
        "outputId": "3990890f-217f-4df5-c4f0-c3a64029587c"
      },
      "execution_count": 6,
      "outputs": [
        {
          "output_type": "stream",
          "name": "stdout",
          "text": [
            "    Income  Kidhome  Teenhome  Recency  MntWines  MntFruits  MntMeatProducts  \\\n",
            "0  58138.0        0         0       58       635         88              546   \n",
            "1  46344.0        1         1       38        11          1                6   \n",
            "2  71613.0        0         0       26       426         49              127   \n",
            "3  26646.0        1         0       26        11          4               20   \n",
            "4  58293.0        1         0       94       173         43              118   \n",
            "\n",
            "   MntFishProducts  MntSweetProducts  MntGoldProds  ...  marital_Together  \\\n",
            "0              172                88            88  ...                 0   \n",
            "1                2                 1             6  ...                 0   \n",
            "2              111                21            42  ...                 1   \n",
            "3               10                 3             5  ...                 1   \n",
            "4               46                27            15  ...                 0   \n",
            "\n",
            "   marital_Widow  education_2n Cycle  education_Basic  education_Graduation  \\\n",
            "0              0                   0                0                     1   \n",
            "1              0                   0                0                     1   \n",
            "2              0                   0                0                     1   \n",
            "3              0                   0                0                     1   \n",
            "4              0                   0                0                     0   \n",
            "\n",
            "   education_Master  education_PhD  MntTotal  MntRegularProds  \\\n",
            "0                 0              0      1529             1441   \n",
            "1                 0              0        21               15   \n",
            "2                 0              0       734              692   \n",
            "3                 0              0        48               43   \n",
            "4                 0              1       407              392   \n",
            "\n",
            "   AcceptedCmpOverall  \n",
            "0                   0  \n",
            "1                   0  \n",
            "2                   0  \n",
            "3                   0  \n",
            "4                   0  \n",
            "\n",
            "[5 rows x 39 columns]\n"
          ]
        }
      ]
    },
    {
      "cell_type": "code",
      "source": [
        "print(ifood.tail())"
      ],
      "metadata": {
        "colab": {
          "base_uri": "https://localhost:8080/"
        },
        "id": "vmyuZHAEkExC",
        "outputId": "dc6280ed-9693-48be-fa43-37cc1812eaa5"
      },
      "execution_count": 7,
      "outputs": [
        {
          "output_type": "stream",
          "name": "stdout",
          "text": [
            "       Income  Kidhome  Teenhome  Recency  MntWines  MntFruits  \\\n",
            "2200  61223.0        0         1       46       709         43   \n",
            "2201  64014.0        2         1       56       406          0   \n",
            "2202  56981.0        0         0       91       908         48   \n",
            "2203  69245.0        0         1        8       428         30   \n",
            "2204  52869.0        1         1       40        84          3   \n",
            "\n",
            "      MntMeatProducts  MntFishProducts  MntSweetProducts  MntGoldProds  ...  \\\n",
            "2200              182               42               118           247  ...   \n",
            "2201               30                0                 0             8  ...   \n",
            "2202              217               32                12            24  ...   \n",
            "2203              214               80                30            61  ...   \n",
            "2204               61                2                 1            21  ...   \n",
            "\n",
            "      marital_Together  marital_Widow  education_2n Cycle  education_Basic  \\\n",
            "2200                 0              0                   0                0   \n",
            "2201                 1              0                   0                0   \n",
            "2202                 0              0                   0                0   \n",
            "2203                 1              0                   0                0   \n",
            "2204                 0              0                   0                0   \n",
            "\n",
            "      education_Graduation  education_Master  education_PhD  MntTotal  \\\n",
            "2200                     1                 0              0      1094   \n",
            "2201                     0                 0              1       436   \n",
            "2202                     1                 0              0      1217   \n",
            "2203                     0                 1              0       782   \n",
            "2204                     0                 0              1       151   \n",
            "\n",
            "      MntRegularProds  AcceptedCmpOverall  \n",
            "2200              847                   0  \n",
            "2201              428                   1  \n",
            "2202             1193                   1  \n",
            "2203              721                   0  \n",
            "2204              130                   0  \n",
            "\n",
            "[5 rows x 39 columns]\n"
          ]
        }
      ]
    },
    {
      "cell_type": "code",
      "source": [
        "print(ifood.isnull())"
      ],
      "metadata": {
        "colab": {
          "base_uri": "https://localhost:8080/"
        },
        "id": "S7d8JM7KkJSN",
        "outputId": "9c1a8bdf-91b5-42c4-d14b-253f02a95c81"
      },
      "execution_count": 8,
      "outputs": [
        {
          "output_type": "stream",
          "name": "stdout",
          "text": [
            "      Income  Kidhome  Teenhome  Recency  MntWines  MntFruits  \\\n",
            "0      False    False     False    False     False      False   \n",
            "1      False    False     False    False     False      False   \n",
            "2      False    False     False    False     False      False   \n",
            "3      False    False     False    False     False      False   \n",
            "4      False    False     False    False     False      False   \n",
            "...      ...      ...       ...      ...       ...        ...   \n",
            "2200   False    False     False    False     False      False   \n",
            "2201   False    False     False    False     False      False   \n",
            "2202   False    False     False    False     False      False   \n",
            "2203   False    False     False    False     False      False   \n",
            "2204   False    False     False    False     False      False   \n",
            "\n",
            "      MntMeatProducts  MntFishProducts  MntSweetProducts  MntGoldProds  ...  \\\n",
            "0               False            False             False         False  ...   \n",
            "1               False            False             False         False  ...   \n",
            "2               False            False             False         False  ...   \n",
            "3               False            False             False         False  ...   \n",
            "4               False            False             False         False  ...   \n",
            "...               ...              ...               ...           ...  ...   \n",
            "2200            False            False             False         False  ...   \n",
            "2201            False            False             False         False  ...   \n",
            "2202            False            False             False         False  ...   \n",
            "2203            False            False             False         False  ...   \n",
            "2204            False            False             False         False  ...   \n",
            "\n",
            "      marital_Together  marital_Widow  education_2n Cycle  education_Basic  \\\n",
            "0                False          False               False            False   \n",
            "1                False          False               False            False   \n",
            "2                False          False               False            False   \n",
            "3                False          False               False            False   \n",
            "4                False          False               False            False   \n",
            "...                ...            ...                 ...              ...   \n",
            "2200             False          False               False            False   \n",
            "2201             False          False               False            False   \n",
            "2202             False          False               False            False   \n",
            "2203             False          False               False            False   \n",
            "2204             False          False               False            False   \n",
            "\n",
            "      education_Graduation  education_Master  education_PhD  MntTotal  \\\n",
            "0                    False             False          False     False   \n",
            "1                    False             False          False     False   \n",
            "2                    False             False          False     False   \n",
            "3                    False             False          False     False   \n",
            "4                    False             False          False     False   \n",
            "...                    ...               ...            ...       ...   \n",
            "2200                 False             False          False     False   \n",
            "2201                 False             False          False     False   \n",
            "2202                 False             False          False     False   \n",
            "2203                 False             False          False     False   \n",
            "2204                 False             False          False     False   \n",
            "\n",
            "      MntRegularProds  AcceptedCmpOverall  \n",
            "0               False               False  \n",
            "1               False               False  \n",
            "2               False               False  \n",
            "3               False               False  \n",
            "4               False               False  \n",
            "...               ...                 ...  \n",
            "2200            False               False  \n",
            "2201            False               False  \n",
            "2202            False               False  \n",
            "2203            False               False  \n",
            "2204            False               False  \n",
            "\n",
            "[2205 rows x 39 columns]\n"
          ]
        }
      ]
    },
    {
      "cell_type": "code",
      "source": [
        "print(ifood.isnull().sum())"
      ],
      "metadata": {
        "colab": {
          "base_uri": "https://localhost:8080/"
        },
        "id": "8XLFzOu2kQ9h",
        "outputId": "ca00e1dc-4ad8-4144-8d4c-baeefb77e939"
      },
      "execution_count": 9,
      "outputs": [
        {
          "output_type": "stream",
          "name": "stdout",
          "text": [
            "Income                  0\n",
            "Kidhome                 0\n",
            "Teenhome                0\n",
            "Recency                 0\n",
            "MntWines                0\n",
            "MntFruits               0\n",
            "MntMeatProducts         0\n",
            "MntFishProducts         0\n",
            "MntSweetProducts        0\n",
            "MntGoldProds            0\n",
            "NumDealsPurchases       0\n",
            "NumWebPurchases         0\n",
            "NumCatalogPurchases     0\n",
            "NumStorePurchases       0\n",
            "NumWebVisitsMonth       0\n",
            "AcceptedCmp3            0\n",
            "AcceptedCmp4            0\n",
            "AcceptedCmp5            0\n",
            "AcceptedCmp1            0\n",
            "AcceptedCmp2            0\n",
            "Complain                0\n",
            "Z_CostContact           0\n",
            "Z_Revenue               0\n",
            "Response                0\n",
            "Age                     0\n",
            "Customer_Days           0\n",
            "marital_Divorced        0\n",
            "marital_Married         0\n",
            "marital_Single          0\n",
            "marital_Together        0\n",
            "marital_Widow           0\n",
            "education_2n Cycle      0\n",
            "education_Basic         0\n",
            "education_Graduation    0\n",
            "education_Master        0\n",
            "education_PhD           0\n",
            "MntTotal                0\n",
            "MntRegularProds         0\n",
            "AcceptedCmpOverall      0\n",
            "dtype: int64\n"
          ]
        }
      ]
    },
    {
      "cell_type": "code",
      "source": [
        "print(ifood.isnull().sum().sum())"
      ],
      "metadata": {
        "colab": {
          "base_uri": "https://localhost:8080/"
        },
        "id": "EnNj1rTokSzr",
        "outputId": "4cc8a22b-38bc-4bbf-8755-33ce804827e1"
      },
      "execution_count": 10,
      "outputs": [
        {
          "output_type": "stream",
          "name": "stdout",
          "text": [
            "0\n"
          ]
        }
      ]
    },
    {
      "cell_type": "markdown",
      "source": [
        "Descriptive Statistics"
      ],
      "metadata": {
        "id": "VTc4cFEYmGXc"
      }
    },
    {
      "cell_type": "code",
      "source": [
        "# Calculating average purchase value and frequency of purchases\n",
        "average_purchase_value = ifood['MntTotal'].mean()\n",
        "frequency_of_purchases = ifood[['NumDealsPurchases', 'NumWebPurchases', 'NumCatalogPurchases', 'NumStorePurchases']].sum(axis=1).mean()"
      ],
      "metadata": {
        "id": "PIMLDgvVmNiq"
      },
      "execution_count": 11,
      "outputs": []
    },
    {
      "cell_type": "code",
      "source": [
        "print(f'Average Purchase Value: {average_purchase_value}')\n",
        "print(f'Frequency of Purchases: {frequency_of_purchases}')"
      ],
      "metadata": {
        "colab": {
          "base_uri": "https://localhost:8080/"
        },
        "id": "9aE82ijamJ6f",
        "outputId": "f8fbf666-3910-4edf-be89-462623a64bb5"
      },
      "execution_count": 12,
      "outputs": [
        {
          "output_type": "stream",
          "name": "stdout",
          "text": [
            "Average Purchase Value: 562.7646258503402\n",
            "Frequency of Purchases: 14.88798185941043\n"
          ]
        }
      ]
    },
    {
      "cell_type": "markdown",
      "source": [
        "Customer Segmentation"
      ],
      "metadata": {
        "id": "ePPBG6y4mTSB"
      }
    },
    {
      "cell_type": "markdown",
      "source": [
        "Feature Selection and Scaling:"
      ],
      "metadata": {
        "id": "aCTFgA9emhZq"
      }
    },
    {
      "cell_type": "code",
      "source": [
        "features = ifood[['Income', 'Kidhome', 'Teenhome', 'Recency', 'MntWines', 'MntFruits',\n",
        "                     'MntMeatProducts', 'MntFishProducts', 'MntSweetProducts', 'MntGoldProds',\n",
        "                     'NumDealsPurchases', 'NumWebPurchases', 'NumCatalogPurchases', 'NumStorePurchases',\n",
        "                     'NumWebVisitsMonth', 'AcceptedCmp3', 'AcceptedCmp4', 'AcceptedCmp5', 'AcceptedCmp1',\n",
        "                     'AcceptedCmp2', 'Complain', 'Age', 'Customer_Days', 'MntTotal', 'MntRegularProds',\n",
        "                     'AcceptedCmpOverall']]"
      ],
      "metadata": {
        "id": "-T6ZxO0wmjZ2"
      },
      "execution_count": 13,
      "outputs": []
    },
    {
      "cell_type": "markdown",
      "source": [
        "Scaling the features"
      ],
      "metadata": {
        "id": "8t7gJBgwRVfF"
      }
    },
    {
      "cell_type": "code",
      "source": [
        "scaler = StandardScaler()\n",
        "scaled_features = scaler.fit_transform(features)"
      ],
      "metadata": {
        "id": "g2MhQEAxmsn-"
      },
      "execution_count": 14,
      "outputs": []
    },
    {
      "cell_type": "markdown",
      "source": [
        "Applying K-Means Clustering:"
      ],
      "metadata": {
        "id": "dBh1czrPmvMQ"
      }
    },
    {
      "cell_type": "code",
      "source": [
        "kmeans = KMeans(n_clusters=4, random_state=42)\n",
        "kmeans_labels = kmeans.fit_predict(scaled_features)"
      ],
      "metadata": {
        "colab": {
          "base_uri": "https://localhost:8080/"
        },
        "id": "vFAh_kGZm2j8",
        "outputId": "bce0c7f1-235a-40b3-8cf8-f2755408b097"
      },
      "execution_count": 15,
      "outputs": [
        {
          "output_type": "stream",
          "name": "stderr",
          "text": [
            "/usr/local/lib/python3.10/dist-packages/sklearn/cluster/_kmeans.py:870: FutureWarning: The default value of `n_init` will change from 10 to 'auto' in 1.4. Set the value of `n_init` explicitly to suppress the warning\n",
            "  warnings.warn(\n"
          ]
        }
      ]
    },
    {
      "cell_type": "markdown",
      "source": [
        "Adding the cluster labels to the original dataframe"
      ],
      "metadata": {
        "id": "BRz9GdzqRaVU"
      }
    },
    {
      "cell_type": "code",
      "source": [
        "ifood['Cluster'] = kmeans_labels"
      ],
      "metadata": {
        "id": "hyhg7KJjm5Ll"
      },
      "execution_count": 16,
      "outputs": []
    },
    {
      "cell_type": "code",
      "source": [
        "silhouette_avg = silhouette_score(scaled_features, kmeans_labels)\n",
        "print(f'Silhouette Score: {silhouette_avg}')"
      ],
      "metadata": {
        "colab": {
          "base_uri": "https://localhost:8080/"
        },
        "id": "ia6kM6t1mwo0",
        "outputId": "c5d05e25-503b-420c-dad3-625ed4f43357"
      },
      "execution_count": 17,
      "outputs": [
        {
          "output_type": "stream",
          "name": "stdout",
          "text": [
            "Silhouette Score: 0.20461210327124296\n"
          ]
        }
      ]
    },
    {
      "cell_type": "markdown",
      "source": [
        "Visualization"
      ],
      "metadata": {
        "id": "S7UHntEjm_a3"
      }
    },
    {
      "cell_type": "code",
      "source": [
        "selected_features = ['Income', 'MntWines', 'NumWebPurchases', 'NumStorePurchases', 'Age']\n",
        "plt.figure(figsize=(15, 10))\n",
        "for i, feature in enumerate(selected_features, 1):\n",
        "    plt.subplot(3, 2, i)\n",
        "    sns.boxplot(x='Cluster', y=feature, data=ifood)\n",
        "    plt.title(f'Cluster Analysis of {feature}')\n",
        "plt.tight_layout()\n",
        "plt.show()"
      ],
      "metadata": {
        "colab": {
          "base_uri": "https://localhost:8080/",
          "height": 955
        },
        "id": "90AV_qq2nBjS",
        "outputId": "49d18543-5b1c-46a8-8c25-4073c205654d"
      },
      "execution_count": 18,
      "outputs": [
        {
          "output_type": "display_data",
          "data": {
            "text/plain": [
              "<Figure size 1500x1000 with 5 Axes>"
            ],
            "image/png": "[encoded data removed]"
          },
          "metadata": {}
        }
      ]
    },
    {
      "cell_type": "markdown",
      "source": [
        "Insights and Recommendations"
      ],
      "metadata": {
        "id": "Cxb9vlTBneKv"
      }
    },
    {
      "cell_type": "code",
      "source": [
        "cluster_summary = ifood.groupby('Cluster').mean()\n",
        "print(cluster_summary)"
      ],
      "metadata": {
        "colab": {
          "base_uri": "https://localhost:8080/"
        },
        "id": "h-N5Tk4InqQK",
        "outputId": "2408b7aa-4a45-4592-d602-4360843c7e61"
      },
      "execution_count": 19,
      "outputs": [
        {
          "output_type": "stream",
          "name": "stdout",
          "text": [
            "               Income   Kidhome  Teenhome    Recency    MntWines  MntFruits  \\\n",
            "Cluster                                                                       \n",
            "0        34365.374143  0.794319  0.443683  49.135162   41.714006   5.056807   \n",
            "1        81700.146067  0.050562  0.151685  49.393258  874.168539  55.432584   \n",
            "2        72530.706150  0.045558  0.248292  50.111617  533.833713  71.687927   \n",
            "3        57065.372134  0.238095  0.931217  47.807760  427.774250  20.666667   \n",
            "\n",
            "         MntMeatProducts  MntFishProducts  MntSweetProducts  MntGoldProds  \\\n",
            "Cluster                                                                     \n",
            "0              23.569050         7.173359          5.142997     15.571988   \n",
            "1             464.247191        79.966292         65.280899     77.668539   \n",
            "2             424.742597       104.596811         70.193622     77.220957   \n",
            "3             125.839506        27.825397         21.396825     59.121693   \n",
            "\n",
            "         ...  marital_Together  marital_Widow  education_2n Cycle  \\\n",
            "Cluster  ...                                                        \n",
            "0        ...          0.254652       0.025465            0.105779   \n",
            "1        ...          0.258427       0.039326            0.084270   \n",
            "2        ...          0.248292       0.045558            0.091116   \n",
            "3        ...          0.269841       0.040564            0.061728   \n",
            "\n",
            "         education_Basic  education_Graduation  education_Master  \\\n",
            "Cluster                                                            \n",
            "0               0.050930              0.489716          0.166503   \n",
            "1               0.000000              0.522472          0.162921   \n",
            "2               0.002278              0.574032          0.129841   \n",
            "3               0.001764              0.472663          0.190476   \n",
            "\n",
            "         education_PhD     MntTotal  MntRegularProds  AcceptedCmpOverall  \n",
            "Cluster                                                                   \n",
            "0             0.187071    82.656219        67.084231            0.084231  \n",
            "1             0.230337  1539.095506      1461.426966            2.056180  \n",
            "2             0.202733  1205.054670      1127.833713            0.173121  \n",
            "3             0.273369   623.502646       564.380952            0.232804  \n",
            "\n",
            "[4 rows x 39 columns]\n"
          ]
        }
      ]
    },
    {
      "cell_type": "markdown",
      "source": [
        "Recommendations based on insights:                                               \n",
        "For instance, if Cluster 0 has high income and high wine purchases, consider targeted wine promotions for this group."
      ],
      "metadata": {
        "id": "oBCOva6mnxvs"
      }
    },
    {
      "cell_type": "code",
      "source": [
        "# Example Insights:\n",
        "for i in range(4):  # Assuming 4 clusters\n",
        "    print(f\"Cluster {i} Characteristics:\")\n",
        "    print(cluster_summary.loc[i])\n",
        "    print()"
      ],
      "metadata": {
        "colab": {
          "base_uri": "https://localhost:8080/"
        },
        "id": "Iq_b_avYni34",
        "outputId": "3b60289f-e858-42c1-ffdd-b20a146d04e0"
      },
      "execution_count": 20,
      "outputs": [
        {
          "output_type": "stream",
          "name": "stdout",
          "text": [
            "Cluster 0 Characteristics:\n",
            "Income                  34365.374143\n",
            "Kidhome                     0.794319\n",
            "Teenhome                    0.443683\n",
            "Recency                    49.135162\n",
            "MntWines                   41.714006\n",
            "MntFruits                   5.056807\n",
            "MntMeatProducts            23.569050\n",
            "MntFishProducts             7.173359\n",
            "MntSweetProducts            5.142997\n",
            "MntGoldProds               15.571988\n",
            "NumDealsPurchases           2.060725\n",
            "NumWebPurchases             2.120470\n",
            "NumCatalogPurchases         0.562194\n",
            "NumStorePurchases           3.219393\n",
            "NumWebVisitsMonth           6.476983\n",
            "AcceptedCmp3                0.074437\n",
            "AcceptedCmp4                0.006856\n",
            "AcceptedCmp5                0.000000\n",
            "AcceptedCmp1                0.000979\n",
            "AcceptedCmp2                0.001959\n",
            "Complain                    0.011753\n",
            "Z_CostContact               3.000000\n",
            "Z_Revenue                  11.000000\n",
            "Response                    0.093046\n",
            "Age                        48.160627\n",
            "Customer_Days            2480.144956\n",
            "marital_Divorced            0.096964\n",
            "marital_Married             0.392752\n",
            "marital_Single              0.230167\n",
            "marital_Together            0.254652\n",
            "marital_Widow               0.025465\n",
            "education_2n Cycle          0.105779\n",
            "education_Basic             0.050930\n",
            "education_Graduation        0.489716\n",
            "education_Master            0.166503\n",
            "education_PhD               0.187071\n",
            "MntTotal                   82.656219\n",
            "MntRegularProds            67.084231\n",
            "AcceptedCmpOverall          0.084231\n",
            "Name: 0, dtype: float64\n",
            "\n",
            "Cluster 1 Characteristics:\n",
            "Income                  81700.146067\n",
            "Kidhome                     0.050562\n",
            "Teenhome                    0.151685\n",
            "Recency                    49.393258\n",
            "MntWines                  874.168539\n",
            "MntFruits                  55.432584\n",
            "MntMeatProducts           464.247191\n",
            "MntFishProducts            79.966292\n",
            "MntSweetProducts           65.280899\n",
            "MntGoldProds               77.668539\n",
            "NumDealsPurchases           1.089888\n",
            "NumWebPurchases             5.500000\n",
            "NumCatalogPurchases         6.117978\n",
            "NumStorePurchases           8.286517\n",
            "NumWebVisitsMonth           3.084270\n",
            "AcceptedCmp3                0.168539\n",
            "AcceptedCmp4                0.398876\n",
            "AcceptedCmp5                0.893258\n",
            "AcceptedCmp1                0.466292\n",
            "AcceptedCmp2                0.129213\n",
            "Complain                    0.005618\n",
            "Z_CostContact               3.000000\n",
            "Z_Revenue                  11.000000\n",
            "Response                    0.567416\n",
            "Age                        50.320225\n",
            "Customer_Days            2514.174157\n",
            "marital_Divorced            0.089888\n",
            "marital_Married             0.421348\n",
            "marital_Single              0.191011\n",
            "marital_Together            0.258427\n",
            "marital_Widow               0.039326\n",
            "education_2n Cycle          0.084270\n",
            "education_Basic             0.000000\n",
            "education_Graduation        0.522472\n",
            "education_Master            0.162921\n",
            "education_PhD               0.230337\n",
            "MntTotal                 1539.095506\n",
            "MntRegularProds          1461.426966\n",
            "AcceptedCmpOverall          2.056180\n",
            "Name: 1, dtype: float64\n",
            "\n",
            "Cluster 2 Characteristics:\n",
            "Income                  72530.706150\n",
            "Kidhome                     0.045558\n",
            "Teenhome                    0.248292\n",
            "Recency                    50.111617\n",
            "MntWines                  533.833713\n",
            "MntFruits                  71.687927\n",
            "MntMeatProducts           424.742597\n",
            "MntFishProducts           104.596811\n",
            "MntSweetProducts           70.193622\n",
            "MntGoldProds               77.220957\n",
            "NumDealsPurchases           1.492027\n",
            "NumWebPurchases             5.250569\n",
            "NumCatalogPurchases         5.756264\n",
            "NumStorePurchases           8.533030\n",
            "NumWebVisitsMonth           3.050114\n",
            "AcceptedCmp3                0.047836\n",
            "AcceptedCmp4                0.027335\n",
            "AcceptedCmp5                0.000000\n",
            "AcceptedCmp1                0.097950\n",
            "AcceptedCmp2                0.000000\n",
            "Complain                    0.006834\n",
            "Z_CostContact               3.000000\n",
            "Z_Revenue                  11.000000\n",
            "Response                    0.164009\n",
            "Age                        52.252847\n",
            "Customer_Days            2525.403189\n",
            "marital_Divorced            0.104784\n",
            "marital_Married             0.353075\n",
            "marital_Single              0.248292\n",
            "marital_Together            0.248292\n",
            "marital_Widow               0.045558\n",
            "education_2n Cycle          0.091116\n",
            "education_Basic             0.002278\n",
            "education_Graduation        0.574032\n",
            "education_Master            0.129841\n",
            "education_PhD               0.202733\n",
            "MntTotal                 1205.054670\n",
            "MntRegularProds          1127.833713\n",
            "AcceptedCmpOverall          0.173121\n",
            "Name: 2, dtype: float64\n",
            "\n",
            "Cluster 3 Characteristics:\n",
            "Income                  57065.372134\n",
            "Kidhome                     0.238095\n",
            "Teenhome                    0.931217\n",
            "Recency                    47.807760\n",
            "MntWines                  427.774250\n",
            "MntFruits                  20.666667\n",
            "MntMeatProducts           125.839506\n",
            "MntFishProducts            27.825397\n",
            "MntSweetProducts           21.396825\n",
            "MntGoldProds               59.121693\n",
            "NumDealsPurchases           3.807760\n",
            "NumWebPurchases             6.336861\n",
            "NumCatalogPurchases         2.897707\n",
            "NumStorePurchases           7.641975\n",
            "NumWebVisitsMonth           5.761905\n",
            "AcceptedCmp3                0.063492\n",
            "AcceptedCmp4                0.130511\n",
            "AcceptedCmp5                0.003527\n",
            "AcceptedCmp1                0.026455\n",
            "AcceptedCmp2                0.008818\n",
            "Complain                    0.007055\n",
            "Z_CostContact               3.000000\n",
            "Z_Revenue                  11.000000\n",
            "Response                    0.114638\n",
            "Age                        55.728395\n",
            "Customer_Days            2561.095238\n",
            "marital_Divorced            0.121693\n",
            "marital_Married             0.393298\n",
            "marital_Single              0.174603\n",
            "marital_Together            0.269841\n",
            "marital_Widow               0.040564\n",
            "education_2n Cycle          0.061728\n",
            "education_Basic             0.001764\n",
            "education_Graduation        0.472663\n",
            "education_Master            0.190476\n",
            "education_PhD               0.273369\n",
            "MntTotal                  623.502646\n",
            "MntRegularProds           564.380952\n",
            "AcceptedCmpOverall          0.232804\n",
            "Name: 3, dtype: float64\n",
            "\n"
          ]
        }
      ]
    },
    {
      "cell_type": "markdown",
      "source": [
        "Summary"
      ],
      "metadata": {
        "id": "bym8vg8U2K_b"
      }
    },
    {
      "cell_type": "markdown",
      "source": [
        "The code performs a customer segmentation analysis for an ecommerce company. It begins by importing necessary libraries and reading a dataset containing customer information. The data exploration phase includes checking the dataset’s structure, data types, and missing values, which are filled with median values. Descriptive statistics such as average purchase value and purchase frequency are calculated. For customer segmentation, relevant features are selected and scaled using StandardScaler. The K-Means clustering algorithm is applied to segment customers into four clusters, and the silhouette score is computed to evaluate the clustering quality. Visualizations, including box plots, are created to illustrate the characteristics of each cluster based on selected features. Finally, the mean values of each feature for each cluster are calculated and printed, providing insights and recommendations for targeted marketing strategies based on the identified customer segments.*italicized text*"
      ],
      "metadata": {
        "id": "6ybL48No2Kx6"
      }
    }
  ]
}