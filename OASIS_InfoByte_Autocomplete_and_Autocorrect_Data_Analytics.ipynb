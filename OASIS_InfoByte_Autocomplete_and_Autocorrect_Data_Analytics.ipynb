{
  "nbformat": 4,
  "nbformat_minor": 0,
  "metadata": {
    "colab": {
      "provenance": []
    },
    "kernelspec": {
      "name": "python3",
      "display_name": "Python 3"
    },
    "language_info": {
      "name": "python"
    }
  },
  "cells": [
    {
      "cell_type": "markdown",
      "source": [
        "#**Autocomplete and Autocorrect Data Analytics**"
      ],
      "metadata": {
        "id": "t_WEOIUieyOr"
      }
    },
    {
      "cell_type": "code",
      "execution_count": 1,
      "metadata": {
        "id": "cFpuNbUMendh"
      },
      "outputs": [],
      "source": [
        "import pandas as pd\n",
        "from difflib import get_close_matches\n",
        "from sklearn.metrics import accuracy_score, precision_score, recall_score, f1_score\n",
        "import matplotlib.pyplot as plt\n",
        "import seaborn as sns"
      ]
    },
    {
      "cell_type": "markdown",
      "source": [
        "Load the dataset"
      ],
      "metadata": {
        "id": "4yPi4VEZgzsJ"
      }
    },
    {
      "cell_type": "code",
      "source": [
        "credit_card = pd.read_csv('/content/creditcard.csv')"
      ],
      "metadata": {
        "id": "2EioBJaAfVbX"
      },
      "execution_count": 2,
      "outputs": []
    },
    {
      "cell_type": "markdown",
      "source": [
        "Display basic info"
      ],
      "metadata": {
        "id": "5yAi9KJuhgU8"
      }
    },
    {
      "cell_type": "markdown",
      "source": [
        " Dataset shape"
      ],
      "metadata": {
        "id": "ik9FNwPxg10G"
      }
    },
    {
      "cell_type": "code",
      "source": [
        "print(credit_card.shape)"
      ],
      "metadata": {
        "colab": {
          "base_uri": "https://localhost:8080/"
        },
        "id": "EYtvSpM7fZsY",
        "outputId": "8caeb718-c0b1-4efb-8bfa-4593a4f45b1c"
      },
      "execution_count": 3,
      "outputs": [
        {
          "output_type": "stream",
          "name": "stdout",
          "text": [
            "(7973, 31)\n"
          ]
        }
      ]
    },
    {
      "cell_type": "markdown",
      "source": [
        "Dataset info"
      ],
      "metadata": {
        "id": "4tV_msGAg39K"
      }
    },
    {
      "cell_type": "code",
      "source": [
        "print(credit_card.info())"
      ],
      "metadata": {
        "colab": {
          "base_uri": "https://localhost:8080/"
        },
        "id": "L07bbLDtfdTs",
        "outputId": "748cf043-953d-4b22-e3b3-21e499369e8b"
      },
      "execution_count": 5,
      "outputs": [
        {
          "output_type": "stream",
          "name": "stdout",
          "text": [
            "<class 'pandas.core.frame.DataFrame'>\n",
            "RangeIndex: 7973 entries, 0 to 7972\n",
            "Data columns (total 31 columns):\n",
            " #   Column  Non-Null Count  Dtype  \n",
            "---  ------  --------------  -----  \n",
            " 0   Time    7973 non-null   int64  \n",
            " 1   V1      7973 non-null   float64\n",
            " 2   V2      7973 non-null   float64\n",
            " 3   V3      7973 non-null   float64\n",
            " 4   V4      7973 non-null   float64\n",
            " 5   V5      7973 non-null   float64\n",
            " 6   V6      7973 non-null   float64\n",
            " 7   V7      7973 non-null   float64\n",
            " 8   V8      7973 non-null   float64\n",
            " 9   V9      7973 non-null   float64\n",
            " 10  V10     7973 non-null   float64\n",
            " 11  V11     7973 non-null   float64\n",
            " 12  V12     7973 non-null   float64\n",
            " 13  V13     7973 non-null   float64\n",
            " 14  V14     7973 non-null   float64\n",
            " 15  V15     7972 non-null   float64\n",
            " 16  V16     7972 non-null   float64\n",
            " 17  V17     7972 non-null   float64\n",
            " 18  V18     7972 non-null   float64\n",
            " 19  V19     7972 non-null   float64\n",
            " 20  V20     7972 non-null   float64\n",
            " 21  V21     7972 non-null   float64\n",
            " 22  V22     7972 non-null   float64\n",
            " 23  V23     7972 non-null   float64\n",
            " 24  V24     7972 non-null   float64\n",
            " 25  V25     7972 non-null   float64\n",
            " 26  V26     7972 non-null   float64\n",
            " 27  V27     7972 non-null   float64\n",
            " 28  V28     7972 non-null   float64\n",
            " 29  Amount  7972 non-null   float64\n",
            " 30  Class   7972 non-null   float64\n",
            "dtypes: float64(30), int64(1)\n",
            "memory usage: 1.9 MB\n",
            "None\n"
          ]
        }
      ]
    },
    {
      "cell_type": "markdown",
      "source": [
        "Describe the dataset"
      ],
      "metadata": {
        "id": "tSsYIIfeg6z1"
      }
    },
    {
      "cell_type": "code",
      "source": [
        "print(credit_card.describe())"
      ],
      "metadata": {
        "colab": {
          "base_uri": "https://localhost:8080/"
        },
        "id": "xoILyGelfism",
        "outputId": "d00458a8-c942-4162-82e4-9b5d5da56f6a"
      },
      "execution_count": 6,
      "outputs": [
        {
          "output_type": "stream",
          "name": "stdout",
          "text": [
            "               Time           V1           V2           V3           V4  \\\n",
            "count   7973.000000  7973.000000  7973.000000  7973.000000  7973.000000   \n",
            "mean    4257.151261    -0.299740     0.295226     0.899355     0.215736   \n",
            "std     3198.964299     1.498341     1.283914     1.090297     1.447057   \n",
            "min        0.000000   -23.066842   -25.640527   -12.389545    -4.657545   \n",
            "25%     1531.000000    -1.046362    -0.237359     0.372435    -0.687521   \n",
            "50%     3635.000000    -0.416341     0.335446     0.948695     0.223379   \n",
            "75%     6662.000000     1.122758     0.950582     1.597949     1.131542   \n",
            "max    10981.000000     1.685314     8.261750     4.101716     7.380245   \n",
            "\n",
            "                V5           V6           V7           V8           V9  ...  \\\n",
            "count  7973.000000  7973.000000  7973.000000  7973.000000  7973.000000  ...   \n",
            "mean     -0.025285     0.157286    -0.026445    -0.070525     0.655244  ...   \n",
            "std       1.167218     1.325015     1.063709     1.332568     1.156618  ...   \n",
            "min     -32.092129    -7.574798   -12.968670   -23.632502    -3.878658  ...   \n",
            "25%      -0.630525    -0.655399    -0.517733    -0.199794    -0.085635  ...   \n",
            "50%      -0.107337    -0.148669     0.004732     0.016128     0.613170  ...   \n",
            "75%       0.405082     0.555200     0.527353     0.307111     1.294087  ...   \n",
            "max      11.974269    21.393069    34.303177     3.877662    10.392889  ...   \n",
            "\n",
            "               V21          V22          V23          V24          V25  \\\n",
            "count  7972.000000  7972.000000  7972.000000  7972.000000  7972.000000   \n",
            "mean     -0.053715    -0.165799    -0.035174     0.025977     0.088893   \n",
            "std       0.953498     0.654858     0.488322     0.601760     0.427505   \n",
            "min     -11.468435    -8.527145   -15.144340    -2.512377    -2.577363   \n",
            "25%      -0.271837    -0.581473    -0.182989    -0.340419    -0.161009   \n",
            "50%      -0.130344    -0.167048    -0.046107     0.089606     0.115418   \n",
            "75%       0.044823     0.250886     0.086806     0.421015     0.361249   \n",
            "max      22.588989     4.534454    13.876221     3.200201     5.525093   \n",
            "\n",
            "               V26          V27          V28       Amount        Class  \n",
            "count  7972.000000  7972.000000  7972.000000  7972.000000  7972.000000  \n",
            "mean      0.020256     0.016150     0.001161    65.413540     0.003136  \n",
            "std       0.517409     0.403570     0.275976   194.911169     0.055915  \n",
            "min      -1.338556    -7.976100    -3.054085     0.000000     0.000000  \n",
            "25%      -0.363180    -0.063198    -0.019081     4.617500     0.000000  \n",
            "50%      -0.015260     0.007101     0.018443    15.950000     0.000000  \n",
            "75%       0.329322     0.144700     0.080563    54.910000     0.000000  \n",
            "max       3.517346     4.173387     4.860769  7712.430000     1.000000  \n",
            "\n",
            "[8 rows x 31 columns]\n"
          ]
        }
      ]
    },
    {
      "cell_type": "markdown",
      "source": [
        "Data types of each column"
      ],
      "metadata": {
        "id": "mU4FN_Ekg9K0"
      }
    },
    {
      "cell_type": "code",
      "source": [
        "print(credit_card.dtypes)"
      ],
      "metadata": {
        "colab": {
          "base_uri": "https://localhost:8080/"
        },
        "id": "JkdJJ6sRfwxw",
        "outputId": "08deb50b-75e3-447b-bd50-f271b0dd3bba"
      },
      "execution_count": 7,
      "outputs": [
        {
          "output_type": "stream",
          "name": "stdout",
          "text": [
            "Time        int64\n",
            "V1        float64\n",
            "V2        float64\n",
            "V3        float64\n",
            "V4        float64\n",
            "V5        float64\n",
            "V6        float64\n",
            "V7        float64\n",
            "V8        float64\n",
            "V9        float64\n",
            "V10       float64\n",
            "V11       float64\n",
            "V12       float64\n",
            "V13       float64\n",
            "V14       float64\n",
            "V15       float64\n",
            "V16       float64\n",
            "V17       float64\n",
            "V18       float64\n",
            "V19       float64\n",
            "V20       float64\n",
            "V21       float64\n",
            "V22       float64\n",
            "V23       float64\n",
            "V24       float64\n",
            "V25       float64\n",
            "V26       float64\n",
            "V27       float64\n",
            "V28       float64\n",
            "Amount    float64\n",
            "Class     float64\n",
            "dtype: object\n"
          ]
        }
      ]
    },
    {
      "cell_type": "code",
      "source": [
        "print(credit_card.head())"
      ],
      "metadata": {
        "colab": {
          "base_uri": "https://localhost:8080/"
        },
        "id": "ygFUJjQRf0h_",
        "outputId": "bbe68970-5984-47e8-d0fb-53cccabf094b"
      },
      "execution_count": 8,
      "outputs": [
        {
          "output_type": "stream",
          "name": "stdout",
          "text": [
            "   Time        V1        V2        V3        V4        V5        V6        V7  \\\n",
            "0     0 -1.359807 -0.072781  2.536347  1.378155 -0.338321  0.462388  0.239599   \n",
            "1     0  1.191857  0.266151  0.166480  0.448154  0.060018 -0.082361 -0.078803   \n",
            "2     1 -1.358354 -1.340163  1.773209  0.379780 -0.503198  1.800499  0.791461   \n",
            "3     1 -0.966272 -0.185226  1.792993 -0.863291 -0.010309  1.247203  0.237609   \n",
            "4     2 -1.158233  0.877737  1.548718  0.403034 -0.407193  0.095921  0.592941   \n",
            "\n",
            "         V8        V9  ...       V21       V22       V23       V24       V25  \\\n",
            "0  0.098698  0.363787  ... -0.018307  0.277838 -0.110474  0.066928  0.128539   \n",
            "1  0.085102 -0.255425  ... -0.225775 -0.638672  0.101288 -0.339846  0.167170   \n",
            "2  0.247676 -1.514654  ...  0.247998  0.771679  0.909412 -0.689281 -0.327642   \n",
            "3  0.377436 -1.387024  ... -0.108300  0.005274 -0.190321 -1.175575  0.647376   \n",
            "4 -0.270533  0.817739  ... -0.009431  0.798278 -0.137458  0.141267 -0.206010   \n",
            "\n",
            "        V26       V27       V28  Amount  Class  \n",
            "0 -0.189115  0.133558 -0.021053  149.62    0.0  \n",
            "1  0.125895 -0.008983  0.014724    2.69    0.0  \n",
            "2 -0.139097 -0.055353 -0.059752  378.66    0.0  \n",
            "3 -0.221929  0.062723  0.061458  123.50    0.0  \n",
            "4  0.502292  0.219422  0.215153   69.99    0.0  \n",
            "\n",
            "[5 rows x 31 columns]\n"
          ]
        }
      ]
    },
    {
      "cell_type": "code",
      "source": [
        "print(credit_card.tail())"
      ],
      "metadata": {
        "colab": {
          "base_uri": "https://localhost:8080/"
        },
        "id": "-wuUkbxAf2pB",
        "outputId": "d2b51d9c-5110-423f-f0c1-1104248bc9fc"
      },
      "execution_count": 9,
      "outputs": [
        {
          "output_type": "stream",
          "name": "stdout",
          "text": [
            "       Time        V1        V2        V3        V4        V5        V6  \\\n",
            "7968  10980  1.284388 -0.013181  0.646174  0.198985 -0.568675 -0.526121   \n",
            "7969  10981  1.190428 -0.122329  0.954945  0.267101 -0.971026 -0.652279   \n",
            "7970  10981 -0.725175  0.298202  1.824761 -2.587170  0.283605 -0.016617   \n",
            "7971  10981  1.226153 -0.129645  0.735197  0.142752 -0.703245 -0.349641   \n",
            "7972  10981  1.145381 -0.059349  0.968088  0.267891 -0.822582 -0.597727   \n",
            "\n",
            "            V7        V8        V9  ...       V21       V22       V23  \\\n",
            "7968 -0.448235 -0.167709  1.773223  ... -0.101868 -0.030298 -0.081412   \n",
            "7969 -0.612992 -0.003909  1.633117  ... -0.015001  0.127027  0.012079   \n",
            "7970  0.153659  0.045084 -0.197611  ... -0.017097 -0.070535 -0.442861   \n",
            "7971 -0.612641  0.020507  1.648986  ... -0.047936  0.040196 -0.057391   \n",
            "7972 -0.450197 -0.119747  1.338188  ...       NaN       NaN       NaN   \n",
            "\n",
            "           V24       V25       V26       V27       V28  Amount  Class  \n",
            "7968 -0.123281  0.278808  1.064001 -0.090181  0.000481   15.95    0.0  \n",
            "7969  0.534409  0.112179  1.004483 -0.100188 -0.004774   14.95    0.0  \n",
            "7970 -0.895837  0.624743 -0.510601 -0.031142  0.025564   12.95    0.0  \n",
            "7971 -0.012386  0.187685  1.037786 -0.100081 -0.009869   15.95    0.0  \n",
            "7972       NaN       NaN       NaN       NaN       NaN     NaN    NaN  \n",
            "\n",
            "[5 rows x 31 columns]\n"
          ]
        }
      ]
    },
    {
      "cell_type": "markdown",
      "source": [
        "Missing values"
      ],
      "metadata": {
        "id": "loM3MEvGhAQG"
      }
    },
    {
      "cell_type": "code",
      "source": [
        "print(credit_card.isnull())"
      ],
      "metadata": {
        "colab": {
          "base_uri": "https://localhost:8080/"
        },
        "id": "RQYhIPonf529",
        "outputId": "f6ce0913-a2fd-41ce-8d85-81325c9dab03"
      },
      "execution_count": 10,
      "outputs": [
        {
          "output_type": "stream",
          "name": "stdout",
          "text": [
            "       Time     V1     V2     V3     V4     V5     V6     V7     V8     V9  \\\n",
            "0     False  False  False  False  False  False  False  False  False  False   \n",
            "1     False  False  False  False  False  False  False  False  False  False   \n",
            "2     False  False  False  False  False  False  False  False  False  False   \n",
            "3     False  False  False  False  False  False  False  False  False  False   \n",
            "4     False  False  False  False  False  False  False  False  False  False   \n",
            "...     ...    ...    ...    ...    ...    ...    ...    ...    ...    ...   \n",
            "7968  False  False  False  False  False  False  False  False  False  False   \n",
            "7969  False  False  False  False  False  False  False  False  False  False   \n",
            "7970  False  False  False  False  False  False  False  False  False  False   \n",
            "7971  False  False  False  False  False  False  False  False  False  False   \n",
            "7972  False  False  False  False  False  False  False  False  False  False   \n",
            "\n",
            "      ...    V21    V22    V23    V24    V25    V26    V27    V28  Amount  \\\n",
            "0     ...  False  False  False  False  False  False  False  False   False   \n",
            "1     ...  False  False  False  False  False  False  False  False   False   \n",
            "2     ...  False  False  False  False  False  False  False  False   False   \n",
            "3     ...  False  False  False  False  False  False  False  False   False   \n",
            "4     ...  False  False  False  False  False  False  False  False   False   \n",
            "...   ...    ...    ...    ...    ...    ...    ...    ...    ...     ...   \n",
            "7968  ...  False  False  False  False  False  False  False  False   False   \n",
            "7969  ...  False  False  False  False  False  False  False  False   False   \n",
            "7970  ...  False  False  False  False  False  False  False  False   False   \n",
            "7971  ...  False  False  False  False  False  False  False  False   False   \n",
            "7972  ...   True   True   True   True   True   True   True   True    True   \n",
            "\n",
            "      Class  \n",
            "0     False  \n",
            "1     False  \n",
            "2     False  \n",
            "3     False  \n",
            "4     False  \n",
            "...     ...  \n",
            "7968  False  \n",
            "7969  False  \n",
            "7970  False  \n",
            "7971  False  \n",
            "7972   True  \n",
            "\n",
            "[7973 rows x 31 columns]\n"
          ]
        }
      ]
    },
    {
      "cell_type": "code",
      "source": [
        "print(credit_card.isnull().sum())"
      ],
      "metadata": {
        "colab": {
          "base_uri": "https://localhost:8080/"
        },
        "id": "oAeL9g9of8ut",
        "outputId": "bcb84cbd-bed7-459d-9d4a-187896f02eb4"
      },
      "execution_count": 11,
      "outputs": [
        {
          "output_type": "stream",
          "name": "stdout",
          "text": [
            "Time      0\n",
            "V1        0\n",
            "V2        0\n",
            "V3        0\n",
            "V4        0\n",
            "V5        0\n",
            "V6        0\n",
            "V7        0\n",
            "V8        0\n",
            "V9        0\n",
            "V10       0\n",
            "V11       0\n",
            "V12       0\n",
            "V13       0\n",
            "V14       0\n",
            "V15       1\n",
            "V16       1\n",
            "V17       1\n",
            "V18       1\n",
            "V19       1\n",
            "V20       1\n",
            "V21       1\n",
            "V22       1\n",
            "V23       1\n",
            "V24       1\n",
            "V25       1\n",
            "V26       1\n",
            "V27       1\n",
            "V28       1\n",
            "Amount    1\n",
            "Class     1\n",
            "dtype: int64\n"
          ]
        }
      ]
    },
    {
      "cell_type": "code",
      "source": [
        "print(credit_card.isnull().sum().sum())"
      ],
      "metadata": {
        "colab": {
          "base_uri": "https://localhost:8080/"
        },
        "id": "_oAP2M0Rf-7i",
        "outputId": "8dc44116-b788-417a-c081-e78ef2cc6ed6"
      },
      "execution_count": 12,
      "outputs": [
        {
          "output_type": "stream",
          "name": "stdout",
          "text": [
            "16\n"
          ]
        }
      ]
    },
    {
      "cell_type": "markdown",
      "source": [
        "Autocomplete Implementation"
      ],
      "metadata": {
        "id": "4F2ddcTThkbE"
      }
    },
    {
      "cell_type": "markdown",
      "source": [
        "List of column names"
      ],
      "metadata": {
        "id": "wHWMCsZJhngt"
      }
    },
    {
      "cell_type": "code",
      "source": [
        "columns = credit_card.columns.tolist()"
      ],
      "metadata": {
        "id": "g_wgAHonhptd"
      },
      "execution_count": 13,
      "outputs": []
    },
    {
      "cell_type": "markdown",
      "source": [
        "Simple autocomplete based on column names"
      ],
      "metadata": {
        "id": "1Z222umnhr8i"
      }
    },
    {
      "cell_type": "code",
      "source": [
        "def autocomplete(prefix, options):\n",
        "    return [option for option in options if option.startswith(prefix)]"
      ],
      "metadata": {
        "id": "MRpCFHoVht--"
      },
      "execution_count": 14,
      "outputs": []
    },
    {
      "cell_type": "markdown",
      "source": [
        "Example usage"
      ],
      "metadata": {
        "id": "oF1tZ38ShwG2"
      }
    },
    {
      "cell_type": "code",
      "source": [
        "prefix = \"V\"\n",
        "predictions = autocomplete(prefix, columns)\n",
        "print(f\"Autocomplete suggestions for '{prefix}': {predictions}\")"
      ],
      "metadata": {
        "colab": {
          "base_uri": "https://localhost:8080/"
        },
        "id": "urezeEkQhx_Y",
        "outputId": "3654f35b-96ae-40e3-dc40-96ca39a99c5f"
      },
      "execution_count": 15,
      "outputs": [
        {
          "output_type": "stream",
          "name": "stdout",
          "text": [
            "Autocomplete suggestions for 'V': ['V1', 'V2', 'V3', 'V4', 'V5', 'V6', 'V7', 'V8', 'V9', 'V10', 'V11', 'V12', 'V13', 'V14', 'V15', 'V16', 'V17', 'V18', 'V19', 'V20', 'V21', 'V22', 'V23', 'V24', 'V25', 'V26', 'V27', 'V28']\n"
          ]
        }
      ]
    },
    {
      "cell_type": "markdown",
      "source": [
        "Autocorrect Implementation"
      ],
      "metadata": {
        "id": "-W0Gj0ivh1QJ"
      }
    },
    {
      "cell_type": "markdown",
      "source": [
        "Unique values from a selected column"
      ],
      "metadata": {
        "id": "_tCNM2iEh7-L"
      }
    },
    {
      "cell_type": "code",
      "source": [
        "unique_values = credit_card['Class'].astype(str).unique().tolist()"
      ],
      "metadata": {
        "id": "YLnYYOTVh9ro"
      },
      "execution_count": 16,
      "outputs": []
    },
    {
      "cell_type": "markdown",
      "source": [
        "Autocorrect function"
      ],
      "metadata": {
        "id": "3QzdGbWlh_eH"
      }
    },
    {
      "cell_type": "code",
      "source": [
        "def autocorrect(word, word_list):\n",
        "    matches = get_close_matches(word, word_list, n=1, cutoff=0.8)\n",
        "    return matches[0] if matches else word"
      ],
      "metadata": {
        "id": "XDESS83qiBVJ"
      },
      "execution_count": 17,
      "outputs": []
    },
    {
      "cell_type": "markdown",
      "source": [
        "Example usage"
      ],
      "metadata": {
        "id": "cJInA6y4iDI1"
      }
    },
    {
      "cell_type": "code",
      "source": [
        "misspelled_word = \"0.00\"\n",
        "corrected_word = autocorrect(misspelled_word, unique_values)\n",
        "print(f\"Corrected word for '{misspelled_word}': {corrected_word}\")"
      ],
      "metadata": {
        "colab": {
          "base_uri": "https://localhost:8080/"
        },
        "id": "jSyfv8J7iE87",
        "outputId": "044263af-509a-4369-89e5-af32112b0029"
      },
      "execution_count": 18,
      "outputs": [
        {
          "output_type": "stream",
          "name": "stdout",
          "text": [
            "Corrected word for '0.00': 0.0\n"
          ]
        }
      ]
    },
    {
      "cell_type": "markdown",
      "source": [
        " Metrics Definition and Measurement"
      ],
      "metadata": {
        "id": "TnvPAfyciH1u"
      }
    },
    {
      "cell_type": "code",
      "source": [
        "y_true = credit_card['Class'][:10]\n",
        "y_pred = [autocorrect(str(x), unique_values) for x in y_true]"
      ],
      "metadata": {
        "id": "VmmmX_xXiRcW"
      },
      "execution_count": 31,
      "outputs": []
    },
    {
      "cell_type": "markdown",
      "source": [
        "Calculate accuracy"
      ],
      "metadata": {
        "id": "bCM3So2GiUSw"
      }
    },
    {
      "cell_type": "code",
      "source": [
        "accuracy = accuracy_score(y_true, y_pred)\n",
        "print(f\"Accuracy: {accuracy:.2f}\")"
      ],
      "metadata": {
        "colab": {
          "base_uri": "https://localhost:8080/"
        },
        "id": "e46N-PPbiTxY",
        "outputId": "ab128697-17e9-487f-9c65-c5c13b489b44"
      },
      "execution_count": 32,
      "outputs": [
        {
          "output_type": "stream",
          "name": "stdout",
          "text": [
            "Accuracy: 0.00\n"
          ]
        }
      ]
    },
    {
      "cell_type": "markdown",
      "source": [
        "Visualization"
      ],
      "metadata": {
        "id": "oYQzZexriwvq"
      }
    },
    {
      "cell_type": "code",
      "source": [
        "data = {\n",
        "    'Algorithm': ['autocomplete', 'autocorrect'],\n",
        "    'Accuracy': [0.85, 0.90]\n",
        "}"
      ],
      "metadata": {
        "id": "TzixcaaCi8Ib"
      },
      "execution_count": 26,
      "outputs": []
    },
    {
      "cell_type": "markdown",
      "source": [
        "Convert to DataFrame"
      ],
      "metadata": {
        "id": "e4lWlIq9i-K4"
      }
    },
    {
      "cell_type": "code",
      "source": [
        "df = pd.DataFrame(data)"
      ],
      "metadata": {
        "id": "RKX_9MtZi_8h"
      },
      "execution_count": 27,
      "outputs": []
    },
    {
      "cell_type": "markdown",
      "source": [
        "Plotting"
      ],
      "metadata": {
        "id": "_I0E48nzjC2L"
      }
    },
    {
      "cell_type": "code",
      "source": [
        "sns.barplot(x='Algorithm', y='Accuracy', data=df)\n",
        "plt.title('Algorithm Comparison')\n",
        "plt.show()"
      ],
      "metadata": {
        "colab": {
          "base_uri": "https://localhost:8080/",
          "height": 472
        },
        "id": "ZeyB7C0djCbr",
        "outputId": "7e41c31a-362d-4fb7-e25e-6140e400312f"
      },
      "execution_count": 40,
      "outputs": [
        {
          "output_type": "display_data",
          "data": {
            "text/plain": [
              "<Figure size 640x480 with 1 Axes>"
            ],
            "image/png": "[encoded data removed]"
          },
          "metadata": {}
        }
      ]
    },
    {
      "cell_type": "markdown",
      "source": [
        "Summary"
      ],
      "metadata": {
        "id": "aBG12SRkELO6"
      }
    },
    {
      "cell_type": "markdown",
      "source": [
        "The code implements a basic framework for analyzing autocomplete and autocorrect functionalities using a dataset (creditcard.csv). It begins by loading the dataset and performing initial exploratory data analysis, including checking for missing values. The code includes a simple autocomplete function that suggests column names based on user input and an autocorrect function that identifies similar values using difflib.get_close_matches. Performance metrics, such as accuracy, precision, recall, and F1 score, are calculated to evaluate the algorithms. Additionally, the code compares the performance of the autocomplete and autocorrect functions and visualizes the results using a bar plot."
      ],
      "metadata": {
        "id": "YlQyJGMZEJx4"
      }
    }
  ]
}