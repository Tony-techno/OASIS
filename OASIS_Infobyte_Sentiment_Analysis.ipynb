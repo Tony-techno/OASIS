{
  "nbformat": 4,
  "nbformat_minor": 0,
  "metadata": {
    "colab": {
      "provenance": []
    },
    "kernelspec": {
      "name": "python3",
      "display_name": "Python 3"
    },
    "language_info": {
      "name": "python"
    }
  },
  "cells": [
    {
      "cell_type": "markdown",
      "source": [
        "#**Sentiment Analysis**"
      ],
      "metadata": {
        "id": "IUI0JNikymfo"
      }
    },
    {
      "cell_type": "markdown",
      "source": [
        "Data Loading and Initial Inspection"
      ],
      "metadata": {
        "id": "cXOwS3Dg3qvb"
      }
    },
    {
      "cell_type": "code",
      "execution_count": 1,
      "metadata": {
        "id": "tekiWAaoyg6H"
      },
      "outputs": [],
      "source": [
        "import pandas as pd\n",
        "import numpy as np\n",
        "import matplotlib.pyplot as plt\n",
        "import seaborn as sns\n",
        "from sklearn.model_selection import train_test_split\n",
        "from sklearn.feature_extraction.text import TfidfVectorizer\n",
        "from sklearn.naive_bayes import MultinomialNB\n",
        "from sklearn.metrics import classification_report, confusion_matrix"
      ]
    },
    {
      "cell_type": "markdown",
      "source": [
        "Load the data"
      ],
      "metadata": {
        "id": "6vh5qXWO3uY2"
      }
    },
    {
      "cell_type": "code",
      "source": [
        "twitter_data = pd.read_csv('/content/Twitter_Data.csv')"
      ],
      "metadata": {
        "id": "LSLMJRF8zyo8"
      },
      "execution_count": 12,
      "outputs": []
    },
    {
      "cell_type": "code",
      "source": [
        "apps = pd.read_csv('/content/apps.csv')"
      ],
      "metadata": {
        "id": "Vf_4rwqp0I_l"
      },
      "execution_count": 9,
      "outputs": []
    },
    {
      "cell_type": "code",
      "source": [
        "user_reviews = pd.read_csv('/content/user_reviews.csv')"
      ],
      "metadata": {
        "id": "NPuqI3Ju0Jnl"
      },
      "execution_count": 11,
      "outputs": []
    },
    {
      "cell_type": "markdown",
      "source": [
        "Inspect the data"
      ],
      "metadata": {
        "id": "tO0GgUhC3wcs"
      }
    },
    {
      "cell_type": "code",
      "source": [
        "print(twitter_data.info())"
      ],
      "metadata": {
        "colab": {
          "base_uri": "https://localhost:8080/"
        },
        "id": "QbDbxwbb0Xzn",
        "outputId": "19195055-34d6-4497-a064-da2615cc0e34"
      },
      "execution_count": 4,
      "outputs": [
        {
          "output_type": "stream",
          "name": "stdout",
          "text": [
            "<class 'pandas.core.frame.DataFrame'>\n",
            "RangeIndex: 16090 entries, 0 to 16089\n",
            "Data columns (total 2 columns):\n",
            " #   Column      Non-Null Count  Dtype  \n",
            "---  ------      --------------  -----  \n",
            " 0   clean_text  16089 non-null  object \n",
            " 1   category    16089 non-null  float64\n",
            "dtypes: float64(1), object(1)\n",
            "memory usage: 251.5+ KB\n",
            "None\n"
          ]
        }
      ]
    },
    {
      "cell_type": "code",
      "source": [
        "print(twitter_data.describe())"
      ],
      "metadata": {
        "colab": {
          "base_uri": "https://localhost:8080/"
        },
        "id": "idCXoZig0eVX",
        "outputId": "fe87220d-961a-4aaf-ccec-2071687086d3"
      },
      "execution_count": 13,
      "outputs": [
        {
          "output_type": "stream",
          "name": "stdout",
          "text": [
            "            category\n",
            "count  123310.000000\n",
            "mean        0.228003\n",
            "std         0.780382\n",
            "min        -1.000000\n",
            "25%         0.000000\n",
            "50%         0.000000\n",
            "75%         1.000000\n",
            "max         1.000000\n"
          ]
        }
      ]
    },
    {
      "cell_type": "code",
      "source": [
        "print(twitter_data.dtypes)"
      ],
      "metadata": {
        "colab": {
          "base_uri": "https://localhost:8080/"
        },
        "id": "-4umv7QK0hvV",
        "outputId": "d6c06817-45b7-4231-89f9-4e0b184bcf6c"
      },
      "execution_count": 14,
      "outputs": [
        {
          "output_type": "stream",
          "name": "stdout",
          "text": [
            "clean_text     object\n",
            "category      float64\n",
            "dtype: object\n"
          ]
        }
      ]
    },
    {
      "cell_type": "code",
      "source": [
        "print(twitter_data.head())"
      ],
      "metadata": {
        "colab": {
          "base_uri": "https://localhost:8080/"
        },
        "id": "oXH4VsZr0oNT",
        "outputId": "998a8c7d-85e3-43fa-e502-ddd486b9dc0c"
      },
      "execution_count": 15,
      "outputs": [
        {
          "output_type": "stream",
          "name": "stdout",
          "text": [
            "                                          clean_text  category\n",
            "0  when modi promised “minimum government maximum...      -1.0\n",
            "1  talk all the nonsense and continue all the dra...       0.0\n",
            "2  what did just say vote for modi  welcome bjp t...       1.0\n",
            "3  asking his supporters prefix chowkidar their n...       1.0\n",
            "4  answer who among these the most powerful world...       1.0\n"
          ]
        }
      ]
    },
    {
      "cell_type": "code",
      "source": [
        "print(twitter_data.tail())"
      ],
      "metadata": {
        "colab": {
          "base_uri": "https://localhost:8080/"
        },
        "id": "QSte1nEd0qHV",
        "outputId": "9a1a4583-4bc8-44bc-a244-103914fb256c"
      },
      "execution_count": 16,
      "outputs": [
        {
          "output_type": "stream",
          "name": "stdout",
          "text": [
            "                                               clean_text  category\n",
            "123306  modi sarkar has brought profound changes almos...       1.0\n",
            "123307  why modi silent china toi editorials confront ...       0.0\n",
            "123308  raga tried vry hard rafale the bludgeon accusa...      -1.0\n",
            "123309  the first the world honble modi adopted villag...       1.0\n",
            "123310  imagine saying rahul went china find out the d...       NaN\n"
          ]
        }
      ]
    },
    {
      "cell_type": "code",
      "source": [
        "print(twitter_data.isnull())"
      ],
      "metadata": {
        "colab": {
          "base_uri": "https://localhost:8080/"
        },
        "id": "349dAuao0sVQ",
        "outputId": "0dc5b0d1-3560-4cef-9f6d-8a1ff9aea3f6"
      },
      "execution_count": 17,
      "outputs": [
        {
          "output_type": "stream",
          "name": "stdout",
          "text": [
            "        clean_text  category\n",
            "0            False     False\n",
            "1            False     False\n",
            "2            False     False\n",
            "3            False     False\n",
            "4            False     False\n",
            "...            ...       ...\n",
            "123306       False     False\n",
            "123307       False     False\n",
            "123308       False     False\n",
            "123309       False     False\n",
            "123310       False      True\n",
            "\n",
            "[123311 rows x 2 columns]\n"
          ]
        }
      ]
    },
    {
      "cell_type": "code",
      "source": [
        "print(twitter_data.isnull().sum())"
      ],
      "metadata": {
        "colab": {
          "base_uri": "https://localhost:8080/"
        },
        "id": "lvycvrRH0u6Q",
        "outputId": "5d5df782-ba14-45b7-ce31-1d8968ef2da8"
      },
      "execution_count": 18,
      "outputs": [
        {
          "output_type": "stream",
          "name": "stdout",
          "text": [
            "clean_text    1\n",
            "category      1\n",
            "dtype: int64\n"
          ]
        }
      ]
    },
    {
      "cell_type": "code",
      "source": [
        "print(twitter_data.isnull().sum().sum())"
      ],
      "metadata": {
        "colab": {
          "base_uri": "https://localhost:8080/"
        },
        "id": "JYpKE5Ga0yFq",
        "outputId": "eb5fdf11-238f-4eca-fd00-554401ae4b61"
      },
      "execution_count": 19,
      "outputs": [
        {
          "output_type": "stream",
          "name": "stdout",
          "text": [
            "2\n"
          ]
        }
      ]
    },
    {
      "cell_type": "code",
      "source": [
        "print(apps.info())"
      ],
      "metadata": {
        "colab": {
          "base_uri": "https://localhost:8080/"
        },
        "id": "Us57Lsqa087c",
        "outputId": "e73b5db7-b80a-43fc-ec34-9cffdeaae707"
      },
      "execution_count": 20,
      "outputs": [
        {
          "output_type": "stream",
          "name": "stdout",
          "text": [
            "<class 'pandas.core.frame.DataFrame'>\n",
            "RangeIndex: 9659 entries, 0 to 9658\n",
            "Data columns (total 14 columns):\n",
            " #   Column          Non-Null Count  Dtype  \n",
            "---  ------          --------------  -----  \n",
            " 0   Unnamed: 0      9659 non-null   int64  \n",
            " 1   App             9659 non-null   object \n",
            " 2   Category        9659 non-null   object \n",
            " 3   Rating          8196 non-null   float64\n",
            " 4   Reviews         9659 non-null   int64  \n",
            " 5   Size            8432 non-null   object \n",
            " 6   Installs        9659 non-null   object \n",
            " 7   Type            9658 non-null   object \n",
            " 8   Price           9659 non-null   object \n",
            " 9   Content Rating  9659 non-null   object \n",
            " 10  Genres          9659 non-null   object \n",
            " 11  Last Updated    9659 non-null   object \n",
            " 12  Current Ver     9651 non-null   object \n",
            " 13  Android Ver     9657 non-null   object \n",
            "dtypes: float64(1), int64(2), object(11)\n",
            "memory usage: 1.0+ MB\n",
            "None\n"
          ]
        }
      ]
    },
    {
      "cell_type": "code",
      "source": [
        "print(apps.describe())"
      ],
      "metadata": {
        "colab": {
          "base_uri": "https://localhost:8080/"
        },
        "id": "iRxMeW8k0_6J",
        "outputId": "64947c4c-b1fd-403f-f13d-5db3af986a82"
      },
      "execution_count": 21,
      "outputs": [
        {
          "output_type": "stream",
          "name": "stdout",
          "text": [
            "         Unnamed: 0       Rating       Reviews\n",
            "count   9659.000000  8196.000000  9.659000e+03\n",
            "mean    5666.172896     4.173243  2.165926e+05\n",
            "std     3102.362863     0.536625  1.831320e+06\n",
            "min        0.000000     1.000000  0.000000e+00\n",
            "25%     3111.500000     4.000000  2.500000e+01\n",
            "50%     5814.000000     4.300000  9.670000e+02\n",
            "75%     8327.500000     4.500000  2.940100e+04\n",
            "max    10840.000000     5.000000  7.815831e+07\n"
          ]
        }
      ]
    },
    {
      "cell_type": "code",
      "source": [
        "print(apps.dtypes)"
      ],
      "metadata": {
        "colab": {
          "base_uri": "https://localhost:8080/"
        },
        "id": "w2e6lKcB1CIQ",
        "outputId": "7e3dc1b4-372c-4e6e-ce85-fe42432e70ec"
      },
      "execution_count": 22,
      "outputs": [
        {
          "output_type": "stream",
          "name": "stdout",
          "text": [
            "Unnamed: 0          int64\n",
            "App                object\n",
            "Category           object\n",
            "Rating            float64\n",
            "Reviews             int64\n",
            "Size               object\n",
            "Installs           object\n",
            "Type               object\n",
            "Price              object\n",
            "Content Rating     object\n",
            "Genres             object\n",
            "Last Updated       object\n",
            "Current Ver        object\n",
            "Android Ver        object\n",
            "dtype: object\n"
          ]
        }
      ]
    },
    {
      "cell_type": "code",
      "source": [
        "print(apps.head())"
      ],
      "metadata": {
        "colab": {
          "base_uri": "https://localhost:8080/"
        },
        "id": "xzQZ5KHU1EhW",
        "outputId": "17ddd54f-d803-4d05-cfa0-a68330b2bcc1"
      },
      "execution_count": 23,
      "outputs": [
        {
          "output_type": "stream",
          "name": "stdout",
          "text": [
            "   Unnamed: 0                                                App  \\\n",
            "0           0     Photo Editor & Candy Camera & Grid & ScrapBook   \n",
            "1           1                                Coloring book moana   \n",
            "2           2  U Launcher Lite – FREE Live Cool Themes, Hide ...   \n",
            "3           3                              Sketch - Draw & Paint   \n",
            "4           4              Pixel Draw - Number Art Coloring Book   \n",
            "\n",
            "         Category  Rating  Reviews  Size     Installs  Type Price  \\\n",
            "0  ART_AND_DESIGN     4.1      159   19M      10,000+  Free     0   \n",
            "1  ART_AND_DESIGN     3.9      967   14M     500,000+  Free     0   \n",
            "2  ART_AND_DESIGN     4.7    87510  8.7M   5,000,000+  Free     0   \n",
            "3  ART_AND_DESIGN     4.5   215644   25M  50,000,000+  Free     0   \n",
            "4  ART_AND_DESIGN     4.3      967  2.8M     100,000+  Free     0   \n",
            "\n",
            "  Content Rating                     Genres      Last Updated  \\\n",
            "0       Everyone               Art & Design   January 7, 2018   \n",
            "1       Everyone  Art & Design;Pretend Play  January 15, 2018   \n",
            "2       Everyone               Art & Design    August 1, 2018   \n",
            "3           Teen               Art & Design      June 8, 2018   \n",
            "4       Everyone    Art & Design;Creativity     June 20, 2018   \n",
            "\n",
            "          Current Ver   Android Ver  \n",
            "0               1.0.0  4.0.3 and up  \n",
            "1               2.0.0  4.0.3 and up  \n",
            "2               1.2.4  4.0.3 and up  \n",
            "3  Varies with device    4.2 and up  \n",
            "4                 1.1    4.4 and up  \n"
          ]
        }
      ]
    },
    {
      "cell_type": "code",
      "source": [
        "print(apps.tail())"
      ],
      "metadata": {
        "colab": {
          "base_uri": "https://localhost:8080/"
        },
        "id": "5vAwhpuV1Guc",
        "outputId": "a9ddd90a-007c-4980-b0f5-5fc84a5e2e92"
      },
      "execution_count": 24,
      "outputs": [
        {
          "output_type": "stream",
          "name": "stdout",
          "text": [
            "      Unnamed: 0                                            App  \\\n",
            "9654       10836                               Sya9a Maroc - FR   \n",
            "9655       10837               Fr. Mike Schmitz Audio Teachings   \n",
            "9656       10838                         Parkinson Exercices FR   \n",
            "9657       10839                  The SCP Foundation DB fr nn5n   \n",
            "9658       10840  iHoroscope - 2018 Daily Horoscope & Astrology   \n",
            "\n",
            "                 Category  Rating  Reviews  Size     Installs  Type Price  \\\n",
            "9654               FAMILY     4.5       38   53M       5,000+  Free     0   \n",
            "9655               FAMILY     5.0        4  3.6M         100+  Free     0   \n",
            "9656              MEDICAL     NaN        3  9.5M       1,000+  Free     0   \n",
            "9657  BOOKS_AND_REFERENCE     4.5      114   NaN       1,000+  Free     0   \n",
            "9658            LIFESTYLE     4.5   398307   19M  10,000,000+  Free     0   \n",
            "\n",
            "     Content Rating             Genres      Last Updated         Current Ver  \\\n",
            "9654       Everyone          Education     July 25, 2017                1.48   \n",
            "9655       Everyone          Education      July 6, 2018                 1.0   \n",
            "9656       Everyone            Medical  January 20, 2017                 1.0   \n",
            "9657     Mature 17+  Books & Reference  January 19, 2015  Varies with device   \n",
            "9658       Everyone          Lifestyle     July 25, 2018  Varies with device   \n",
            "\n",
            "             Android Ver  \n",
            "9654          4.1 and up  \n",
            "9655          4.1 and up  \n",
            "9656          2.2 and up  \n",
            "9657  Varies with device  \n",
            "9658  Varies with device  \n"
          ]
        }
      ]
    },
    {
      "cell_type": "code",
      "source": [
        "print(apps.isnull())"
      ],
      "metadata": {
        "colab": {
          "base_uri": "https://localhost:8080/"
        },
        "id": "rNzwD25I1JET",
        "outputId": "20efdb54-663f-47aa-b842-061fab0295bc"
      },
      "execution_count": 25,
      "outputs": [
        {
          "output_type": "stream",
          "name": "stdout",
          "text": [
            "      Unnamed: 0    App  Category  Rating  Reviews   Size  Installs   Type  \\\n",
            "0          False  False     False   False    False  False     False  False   \n",
            "1          False  False     False   False    False  False     False  False   \n",
            "2          False  False     False   False    False  False     False  False   \n",
            "3          False  False     False   False    False  False     False  False   \n",
            "4          False  False     False   False    False  False     False  False   \n",
            "...          ...    ...       ...     ...      ...    ...       ...    ...   \n",
            "9654       False  False     False   False    False  False     False  False   \n",
            "9655       False  False     False   False    False  False     False  False   \n",
            "9656       False  False     False    True    False  False     False  False   \n",
            "9657       False  False     False   False    False   True     False  False   \n",
            "9658       False  False     False   False    False  False     False  False   \n",
            "\n",
            "      Price  Content Rating  Genres  Last Updated  Current Ver  Android Ver  \n",
            "0     False           False   False         False        False        False  \n",
            "1     False           False   False         False        False        False  \n",
            "2     False           False   False         False        False        False  \n",
            "3     False           False   False         False        False        False  \n",
            "4     False           False   False         False        False        False  \n",
            "...     ...             ...     ...           ...          ...          ...  \n",
            "9654  False           False   False         False        False        False  \n",
            "9655  False           False   False         False        False        False  \n",
            "9656  False           False   False         False        False        False  \n",
            "9657  False           False   False         False        False        False  \n",
            "9658  False           False   False         False        False        False  \n",
            "\n",
            "[9659 rows x 14 columns]\n"
          ]
        }
      ]
    },
    {
      "cell_type": "code",
      "source": [
        "print(apps.isnull().sum())"
      ],
      "metadata": {
        "colab": {
          "base_uri": "https://localhost:8080/"
        },
        "id": "ujf3YPeD1LtS",
        "outputId": "c9a4a4fe-10e9-4a6e-c9ff-a58a6833bcca"
      },
      "execution_count": 26,
      "outputs": [
        {
          "output_type": "stream",
          "name": "stdout",
          "text": [
            "Unnamed: 0           0\n",
            "App                  0\n",
            "Category             0\n",
            "Rating            1463\n",
            "Reviews              0\n",
            "Size              1227\n",
            "Installs             0\n",
            "Type                 1\n",
            "Price                0\n",
            "Content Rating       0\n",
            "Genres               0\n",
            "Last Updated         0\n",
            "Current Ver          8\n",
            "Android Ver          2\n",
            "dtype: int64\n"
          ]
        }
      ]
    },
    {
      "cell_type": "code",
      "source": [
        "print(apps.isnull().sum().sum())"
      ],
      "metadata": {
        "colab": {
          "base_uri": "https://localhost:8080/"
        },
        "id": "VO2erRM11OJg",
        "outputId": "2b12e6f3-3a55-44ac-db9e-d064f551b463"
      },
      "execution_count": 27,
      "outputs": [
        {
          "output_type": "stream",
          "name": "stdout",
          "text": [
            "2701\n"
          ]
        }
      ]
    },
    {
      "cell_type": "code",
      "source": [
        "print(user_reviews.info())"
      ],
      "metadata": {
        "colab": {
          "base_uri": "https://localhost:8080/"
        },
        "id": "jfHDpKUa09mP",
        "outputId": "0d2c159a-1c14-4638-ba3a-deda20b289ec"
      },
      "execution_count": 28,
      "outputs": [
        {
          "output_type": "stream",
          "name": "stdout",
          "text": [
            "<class 'pandas.core.frame.DataFrame'>\n",
            "RangeIndex: 34965 entries, 0 to 34964\n",
            "Data columns (total 5 columns):\n",
            " #   Column                  Non-Null Count  Dtype  \n",
            "---  ------                  --------------  -----  \n",
            " 0   App                     34965 non-null  object \n",
            " 1   Translated_Review       20375 non-null  object \n",
            " 2   Sentiment               20378 non-null  object \n",
            " 3   Sentiment_Polarity      20378 non-null  float64\n",
            " 4   Sentiment_Subjectivity  20378 non-null  float64\n",
            "dtypes: float64(2), object(3)\n",
            "memory usage: 1.3+ MB\n",
            "None\n"
          ]
        }
      ]
    },
    {
      "cell_type": "code",
      "source": [
        "print(user_reviews.describe())"
      ],
      "metadata": {
        "colab": {
          "base_uri": "https://localhost:8080/"
        },
        "id": "enLmUgq41AUv",
        "outputId": "d9ffd11c-45f1-4d85-a14e-d6495e9b3520"
      },
      "execution_count": 29,
      "outputs": [
        {
          "output_type": "stream",
          "name": "stdout",
          "text": [
            "       Sentiment_Polarity  Sentiment_Subjectivity\n",
            "count        20378.000000            20378.000000\n",
            "mean             0.182017                0.493597\n",
            "std              0.350535                0.256685\n",
            "min             -1.000000                0.000000\n",
            "25%              0.000000                0.358940\n",
            "50%              0.150000                0.516667\n",
            "75%              0.400000                0.650000\n",
            "max              1.000000                1.000000\n"
          ]
        }
      ]
    },
    {
      "cell_type": "code",
      "source": [
        "print(user_reviews.dtypes)"
      ],
      "metadata": {
        "colab": {
          "base_uri": "https://localhost:8080/"
        },
        "id": "dgAoQIFR1CsT",
        "outputId": "1d8bc973-a31c-4099-be2c-a7523687a676"
      },
      "execution_count": 30,
      "outputs": [
        {
          "output_type": "stream",
          "name": "stdout",
          "text": [
            "App                        object\n",
            "Translated_Review          object\n",
            "Sentiment                  object\n",
            "Sentiment_Polarity        float64\n",
            "Sentiment_Subjectivity    float64\n",
            "dtype: object\n"
          ]
        }
      ]
    },
    {
      "cell_type": "code",
      "source": [
        "print(user_reviews.head())"
      ],
      "metadata": {
        "colab": {
          "base_uri": "https://localhost:8080/"
        },
        "id": "vzYMmk7n1E96",
        "outputId": "38d9586b-7534-493a-eaae-011b588f5472"
      },
      "execution_count": 31,
      "outputs": [
        {
          "output_type": "stream",
          "name": "stdout",
          "text": [
            "                     App                                  Translated_Review  \\\n",
            "0  10 Best Foods for You  I like eat delicious food. That's I'm cooking ...   \n",
            "1  10 Best Foods for You    This help eating healthy exercise regular basis   \n",
            "2  10 Best Foods for You                                                NaN   \n",
            "3  10 Best Foods for You         Works great especially going grocery store   \n",
            "4  10 Best Foods for You                                       Best idea us   \n",
            "\n",
            "  Sentiment  Sentiment_Polarity  Sentiment_Subjectivity  \n",
            "0  Positive                1.00                0.533333  \n",
            "1  Positive                0.25                0.288462  \n",
            "2       NaN                 NaN                     NaN  \n",
            "3  Positive                0.40                0.875000  \n",
            "4  Positive                1.00                0.300000  \n"
          ]
        }
      ]
    },
    {
      "cell_type": "code",
      "source": [
        "print(user_reviews.tail())"
      ],
      "metadata": {
        "colab": {
          "base_uri": "https://localhost:8080/"
        },
        "id": "T9RbunVv1HMJ",
        "outputId": "88791623-b8e4-4a30-8d90-7f8ceb28d04b"
      },
      "execution_count": 32,
      "outputs": [
        {
          "output_type": "stream",
          "name": "stdout",
          "text": [
            "                                App  \\\n",
            "34960  DisneyNOW – TV Shows & Games   \n",
            "34961  DisneyNOW – TV Shows & Games   \n",
            "34962  DisneyNOW – TV Shows & Games   \n",
            "34963  DisneyNOW – TV Shows & Games   \n",
            "34964  DisneyNOW – TV Shows & Games   \n",
            "\n",
            "                                       Translated_Review Sentiment  \\\n",
            "34960  It's great except I complaint: Most episodes l...  Positive   \n",
            "34961  used work great. Then started would open would...  Positive   \n",
            "34962  This stupid. It's always freezing internet. It...  Negative   \n",
            "34963  It working perfectly fine day I got next day I...  Positive   \n",
            "34964  Ok first alls let whach 7 episodes says that's...       NaN   \n",
            "\n",
            "       Sentiment_Polarity  Sentiment_Subjectivity  \n",
            "34960            0.333333                0.483333  \n",
            "34961            0.018750                0.541667  \n",
            "34962           -0.183333                0.444444  \n",
            "34963            0.144167                0.260000  \n",
            "34964                 NaN                     NaN  \n"
          ]
        }
      ]
    },
    {
      "cell_type": "code",
      "source": [
        "print(user_reviews.isnull())"
      ],
      "metadata": {
        "colab": {
          "base_uri": "https://localhost:8080/"
        },
        "id": "6hcz5K-_1JiR",
        "outputId": "7a295b9f-94ea-43af-acd0-0c03fd1b7f8a"
      },
      "execution_count": 33,
      "outputs": [
        {
          "output_type": "stream",
          "name": "stdout",
          "text": [
            "         App  Translated_Review  Sentiment  Sentiment_Polarity  \\\n",
            "0      False              False      False               False   \n",
            "1      False              False      False               False   \n",
            "2      False               True       True                True   \n",
            "3      False              False      False               False   \n",
            "4      False              False      False               False   \n",
            "...      ...                ...        ...                 ...   \n",
            "34960  False              False      False               False   \n",
            "34961  False              False      False               False   \n",
            "34962  False              False      False               False   \n",
            "34963  False              False      False               False   \n",
            "34964  False              False       True                True   \n",
            "\n",
            "       Sentiment_Subjectivity  \n",
            "0                       False  \n",
            "1                       False  \n",
            "2                        True  \n",
            "3                       False  \n",
            "4                       False  \n",
            "...                       ...  \n",
            "34960                   False  \n",
            "34961                   False  \n",
            "34962                   False  \n",
            "34963                   False  \n",
            "34964                    True  \n",
            "\n",
            "[34965 rows x 5 columns]\n"
          ]
        }
      ]
    },
    {
      "cell_type": "code",
      "source": [
        "print(user_reviews.isnull().sum())"
      ],
      "metadata": {
        "colab": {
          "base_uri": "https://localhost:8080/"
        },
        "id": "_LXtgw8t1MMm",
        "outputId": "c2211260-d7c9-49be-98d7-c917ba7d0afa"
      },
      "execution_count": 34,
      "outputs": [
        {
          "output_type": "stream",
          "name": "stdout",
          "text": [
            "App                           0\n",
            "Translated_Review         14590\n",
            "Sentiment                 14587\n",
            "Sentiment_Polarity        14587\n",
            "Sentiment_Subjectivity    14587\n",
            "dtype: int64\n"
          ]
        }
      ]
    },
    {
      "cell_type": "code",
      "source": [
        "print(user_reviews.isnull().sum().sum())"
      ],
      "metadata": {
        "colab": {
          "base_uri": "https://localhost:8080/"
        },
        "id": "kAqA_2_i1O3v",
        "outputId": "d2b139ab-e038-40cc-9c07-663d33b7d4c2"
      },
      "execution_count": 35,
      "outputs": [
        {
          "output_type": "stream",
          "name": "stdout",
          "text": [
            "58351\n"
          ]
        }
      ]
    },
    {
      "cell_type": "markdown",
      "source": [
        "Data Cleaning"
      ],
      "metadata": {
        "id": "QH-A_PWQ3z-b"
      }
    },
    {
      "cell_type": "markdown",
      "source": [
        "Dropping rows with missing values in Twitter data"
      ],
      "metadata": {
        "id": "LJjpSglM34n9"
      }
    },
    {
      "cell_type": "code",
      "source": [
        "twitter_data.dropna(inplace=True)"
      ],
      "metadata": {
        "id": "IginmMPc32YJ"
      },
      "execution_count": 36,
      "outputs": []
    },
    {
      "cell_type": "markdown",
      "source": [
        "Filling missing values in user reviews with empty strings or appropriate values"
      ],
      "metadata": {
        "id": "E-meajnf4KHN"
      }
    },
    {
      "cell_type": "code",
      "source": [
        "user_reviews['Translated_Review'].fillna('', inplace=True)\n",
        "user_reviews['Sentiment'].fillna('Neutral', inplace=True)\n",
        "user_reviews['Sentiment_Polarity'].fillna(0, inplace=True)\n",
        "user_reviews['Sentiment_Subjectivity'].fillna(0, inplace=True)"
      ],
      "metadata": {
        "id": "vGHppuLW4Jl9"
      },
      "execution_count": 37,
      "outputs": []
    },
    {
      "cell_type": "markdown",
      "source": [
        "Filling missing values in apps dataset with suitable replacements"
      ],
      "metadata": {
        "id": "gaqVmo7X4R2q"
      }
    },
    {
      "cell_type": "code",
      "source": [
        "apps['Rating'].fillna(apps['Rating'].mean(), inplace=True)\n",
        "apps['Size'].fillna('Varies with device', inplace=True)\n",
        "apps['Type'].fillna('Free', inplace=True)\n",
        "apps['Current Ver'].fillna('Unknown', inplace=True)\n",
        "apps['Android Ver'].fillna('Varies with device', inplace=True)"
      ],
      "metadata": {
        "id": "GAoCJV_A4Tnk"
      },
      "execution_count": 38,
      "outputs": []
    },
    {
      "cell_type": "markdown",
      "source": [
        "Verifying if missing values are handled"
      ],
      "metadata": {
        "id": "Cw0JSmf-4V1W"
      }
    },
    {
      "cell_type": "code",
      "source": [
        "print(twitter_data.isnull().sum().sum())\n",
        "print(user_reviews.isnull().sum().sum())\n",
        "print(apps.isnull().sum().sum())"
      ],
      "metadata": {
        "colab": {
          "base_uri": "https://localhost:8080/"
        },
        "id": "45aYbzvA4Xj1",
        "outputId": "385f814f-832c-40e5-be2e-363e3af679eb"
      },
      "execution_count": 39,
      "outputs": [
        {
          "output_type": "stream",
          "name": "stdout",
          "text": [
            "0\n",
            "0\n",
            "0\n"
          ]
        }
      ]
    },
    {
      "cell_type": "markdown",
      "source": [
        "Exploratory Data Analysis (EDA)"
      ],
      "metadata": {
        "id": "SDm3fskV4qBU"
      }
    },
    {
      "cell_type": "code",
      "source": [
        "plt.figure(figsize=(8,6))\n",
        "sns.countplot(x='category', data=twitter_data)\n",
        "plt.title('Sentiment Distribution in Twitter Data')\n",
        "plt.show()"
      ],
      "metadata": {
        "colab": {
          "base_uri": "https://localhost:8080/",
          "height": 564
        },
        "id": "-FS7ckPt4t9U",
        "outputId": "e0d631c8-1de6-4109-8e24-a2102ca8a0a7"
      },
      "execution_count": 40,
      "outputs": [
        {
          "output_type": "display_data",
          "data": {
            "text/plain": [
              "<Figure size 800x600 with 1 Axes>"
            ],
            "image/png": "[encoded data removed]"
          },
          "metadata": {}
        }
      ]
    },
    {
      "cell_type": "code",
      "source": [
        "plt.figure(figsize=(8,6))\n",
        "sns.histplot(apps['Rating'], bins=30, kde=True)\n",
        "plt.title('Distribution of App Ratings')\n",
        "plt.show()"
      ],
      "metadata": {
        "colab": {
          "base_uri": "https://localhost:8080/",
          "height": 564
        },
        "id": "PanlBqtW4x5s",
        "outputId": "81e73d7d-54df-464c-8148-fc594d3fb07b"
      },
      "execution_count": 41,
      "outputs": [
        {
          "output_type": "display_data",
          "data": {
            "text/plain": [
              "<Figure size 800x600 with 1 Axes>"
            ],
            "image/png": "[encoded data removed]"
          },
          "metadata": {}
        }
      ]
    },
    {
      "cell_type": "code",
      "source": [
        "plt.figure(figsize=(8,6))\n",
        "sns.histplot(user_reviews['Sentiment_Polarity'], bins=30, kde=True)\n",
        "plt.title('Distribution of Sentiment Polarity in User Reviews')\n",
        "plt.show()"
      ],
      "metadata": {
        "colab": {
          "base_uri": "https://localhost:8080/",
          "height": 564
        },
        "id": "UyouiC7A4151",
        "outputId": "1527193f-e2d1-4c45-918f-1bc8ab91f75e"
      },
      "execution_count": 42,
      "outputs": [
        {
          "output_type": "display_data",
          "data": {
            "text/plain": [
              "<Figure size 800x600 with 1 Axes>"
            ],
            "image/png": "[encoded data removed]"
          },
          "metadata": {}
        }
      ]
    },
    {
      "cell_type": "markdown",
      "source": [
        "Feature Engineering"
      ],
      "metadata": {
        "id": "EhOohz674604"
      }
    },
    {
      "cell_type": "markdown",
      "source": [
        "Feature engineering for Twitter data using TF-IDF Vectorizer"
      ],
      "metadata": {
        "id": "J0tBGR4u49DA"
      }
    },
    {
      "cell_type": "code",
      "source": [
        "vectorizer = TfidfVectorizer(max_features=5000, ngram_range=(1,2))\n",
        "X_twitter = vectorizer.fit_transform(twitter_data['clean_text'])\n",
        "y_twitter = twitter_data['category']"
      ],
      "metadata": {
        "id": "FI_hs-_x4-ev"
      },
      "execution_count": 43,
      "outputs": []
    },
    {
      "cell_type": "markdown",
      "source": [
        "Splitting the Twitter data into training and testing sets"
      ],
      "metadata": {
        "id": "J1IrNA0G5BLD"
      }
    },
    {
      "cell_type": "code",
      "source": [
        "X_train_twitter, X_test_twitter, y_train_twitter, y_test_twitter = train_test_split(X_twitter, y_twitter, test_size=0.2, random_state=42)"
      ],
      "metadata": {
        "id": "XQmGBrOd5D60"
      },
      "execution_count": 44,
      "outputs": []
    },
    {
      "cell_type": "markdown",
      "source": [
        "Model Building and Evaluation"
      ],
      "metadata": {
        "id": "7D8atP9m5GSP"
      }
    },
    {
      "cell_type": "markdown",
      "source": [
        "Training a Naive Bayes classifier for Twitter sentiment analysis"
      ],
      "metadata": {
        "id": "HIxx4vqn5ImK"
      }
    },
    {
      "cell_type": "code",
      "source": [
        "model_nb = MultinomialNB()\n",
        "model_nb.fit(X_train_twitter, y_train_twitter)"
      ],
      "metadata": {
        "colab": {
          "base_uri": "https://localhost:8080/",
          "height": 74
        },
        "id": "XphhYOXc5KeV",
        "outputId": "f99e0e28-6204-48ec-eccf-04ff4af07c85"
      },
      "execution_count": 45,
      "outputs": [
        {
          "output_type": "execute_result",
          "data": {
            "text/plain": [
              "MultinomialNB()"
            ],
            "text/html": [
              "<style>#sk-container-id-1 {color: black;background-color: white;}#sk-container-id-1 pre{padding: 0;}#sk-container-id-1 div.sk-toggleable {background-color: white;}#sk-container-id-1 label.sk-toggleable__label {cursor: pointer;display: block;width: 100%;margin-bottom: 0;padding: 0.3em;box-sizing: border-box;text-align: center;}#sk-container-id-1 label.sk-toggleable__label-arrow:before {content: \"▸\";float: left;margin-right: 0.25em;color: #696969;}#sk-container-id-1 label.sk-toggleable__label-arrow:hover:before {color: black;}#sk-container-id-1 div.sk-estimator:hover label.sk-toggleable__label-arrow:before {color: black;}#sk-container-id-1 div.sk-toggleable__content {max-height: 0;max-width: 0;overflow: hidden;text-align: left;background-color: #f0f8ff;}#sk-container-id-1 div.sk-toggleable__content pre {margin: 0.2em;color: black;border-radius: 0.25em;background-color: #f0f8ff;}#sk-container-id-1 input.sk-toggleable__control:checked~div.sk-toggleable__content {max-height: 200px;max-width: 100%;overflow: auto;}#sk-container-id-1 input.sk-toggleable__control:checked~label.sk-toggleable__label-arrow:before {content: \"▾\";}#sk-container-id-1 div.sk-estimator input.sk-toggleable__control:checked~label.sk-toggleable__label {background-color: #d4ebff;}#sk-container-id-1 div.sk-label input.sk-toggleable__control:checked~label.sk-toggleable__label {background-color: #d4ebff;}#sk-container-id-1 input.sk-hidden--visually {border: 0;clip: rect(1px 1px 1px 1px);clip: rect(1px, 1px, 1px, 1px);height: 1px;margin: -1px;overflow: hidden;padding: 0;position: absolute;width: 1px;}#sk-container-id-1 div.sk-estimator {font-family: monospace;background-color: #f0f8ff;border: 1px dotted black;border-radius: 0.25em;box-sizing: border-box;margin-bottom: 0.5em;}#sk-container-id-1 div.sk-estimator:hover {background-color: #d4ebff;}#sk-container-id-1 div.sk-parallel-item::after {content: \"\";width: 100%;border-bottom: 1px solid gray;flex-grow: 1;}#sk-container-id-1 div.sk-label:hover label.sk-toggleable__label {background-color: #d4ebff;}#sk-container-id-1 div.sk-serial::before {content: \"\";position: absolute;border-left: 1px solid gray;box-sizing: border-box;top: 0;bottom: 0;left: 50%;z-index: 0;}#sk-container-id-1 div.sk-serial {display: flex;flex-direction: column;align-items: center;background-color: white;padding-right: 0.2em;padding-left: 0.2em;position: relative;}#sk-container-id-1 div.sk-item {position: relative;z-index: 1;}#sk-container-id-1 div.sk-parallel {display: flex;align-items: stretch;justify-content: center;background-color: white;position: relative;}#sk-container-id-1 div.sk-item::before, #sk-container-id-1 div.sk-parallel-item::before {content: \"\";position: absolute;border-left: 1px solid gray;box-sizing: border-box;top: 0;bottom: 0;left: 50%;z-index: -1;}#sk-container-id-1 div.sk-parallel-item {display: flex;flex-direction: column;z-index: 1;position: relative;background-color: white;}#sk-container-id-1 div.sk-parallel-item:first-child::after {align-self: flex-end;width: 50%;}#sk-container-id-1 div.sk-parallel-item:last-child::after {align-self: flex-start;width: 50%;}#sk-container-id-1 div.sk-parallel-item:only-child::after {width: 0;}#sk-container-id-1 div.sk-dashed-wrapped {border: 1px dashed gray;margin: 0 0.4em 0.5em 0.4em;box-sizing: border-box;padding-bottom: 0.4em;background-color: white;}#sk-container-id-1 div.sk-label label {font-family: monospace;font-weight: bold;display: inline-block;line-height: 1.2em;}#sk-container-id-1 div.sk-label-container {text-align: center;}#sk-container-id-1 div.sk-container {/* jupyter's `normalize.less` sets `[hidden] { display: none; }` but bootstrap.min.css set `[hidden] { display: none !important; }` so we also need the `!important` here to be able to override the default hidden behavior on the sphinx rendered scikit-learn.org. See: https://github.com/scikit-learn/scikit-learn/issues/21755 */display: inline-block !important;position: relative;}#sk-container-id-1 div.sk-text-repr-fallback {display: none;}</style><div id=\"sk-container-id-1\" class=\"sk-top-container\"><div class=\"sk-text-repr-fallback\"><pre>MultinomialNB()</pre><b>In a Jupyter environment, please rerun this cell to show the HTML representation or trust the notebook. <br />On GitHub, the HTML representation is unable to render, please try loading this page with nbviewer.org.</b></div><div class=\"sk-container\" hidden><div class=\"sk-item\"><div class=\"sk-estimator sk-toggleable\"><input class=\"sk-toggleable__control sk-hidden--visually\" id=\"sk-estimator-id-1\" type=\"checkbox\" checked><label for=\"sk-estimator-id-1\" class=\"sk-toggleable__label sk-toggleable__label-arrow\">MultinomialNB</label><div class=\"sk-toggleable__content\"><pre>MultinomialNB()</pre></div></div></div></div></div>"
            ]
          },
          "metadata": {},
          "execution_count": 45
        }
      ]
    },
    {
      "cell_type": "markdown",
      "source": [
        "Making predictions"
      ],
      "metadata": {
        "id": "Omo-i7QR5NJw"
      }
    },
    {
      "cell_type": "code",
      "source": [
        "y_pred_twitter = model_nb.predict(X_test_twitter)"
      ],
      "metadata": {
        "id": "45aauBk85N7s"
      },
      "execution_count": 46,
      "outputs": []
    },
    {
      "cell_type": "markdown",
      "source": [
        "Evaluating the model"
      ],
      "metadata": {
        "id": "tPua1omH5Ra7"
      }
    },
    {
      "cell_type": "code",
      "source": [
        "print(confusion_matrix(y_test_twitter, y_pred_twitter))"
      ],
      "metadata": {
        "colab": {
          "base_uri": "https://localhost:8080/"
        },
        "id": "4ioGAR6Y5SNt",
        "outputId": "2644d430-f5e2-48bb-ee25-c26abf4e69d6"
      },
      "execution_count": 48,
      "outputs": [
        {
          "output_type": "stream",
          "name": "stdout",
          "text": [
            "[[ 2406   545  2339]\n",
            " [  111  5895  2343]\n",
            " [  312   560 10151]]\n"
          ]
        }
      ]
    },
    {
      "cell_type": "code",
      "source": [
        "print(classification_report(y_test_twitter, y_pred_twitter))"
      ],
      "metadata": {
        "colab": {
          "base_uri": "https://localhost:8080/"
        },
        "id": "dhdgaPpD789Q",
        "outputId": "dd2d6692-cb94-4548-801e-cbcc0a5b6204"
      },
      "execution_count": 49,
      "outputs": [
        {
          "output_type": "stream",
          "name": "stdout",
          "text": [
            "              precision    recall  f1-score   support\n",
            "\n",
            "        -1.0       0.85      0.45      0.59      5290\n",
            "         0.0       0.84      0.71      0.77      8349\n",
            "         1.0       0.68      0.92      0.79     11023\n",
            "\n",
            "    accuracy                           0.75     24662\n",
            "   macro avg       0.79      0.69      0.72     24662\n",
            "weighted avg       0.77      0.75      0.74     24662\n",
            "\n"
          ]
        }
      ]
    },
    {
      "cell_type": "markdown",
      "source": [
        "Data Visualization of Results"
      ],
      "metadata": {
        "id": "wHeLPR0e5WKO"
      }
    },
    {
      "cell_type": "code",
      "source": [
        "conf_matrix = confusion_matrix(y_test_twitter, y_pred_twitter)\n",
        "plt.figure(figsize=(8,6))\n",
        "sns.heatmap(conf_matrix, annot=True, fmt='d', cmap='Blues', xticklabels=['Negative', 'Neutral', 'Positive'], yticklabels=['Negative', 'Neutral', 'Positive'])\n",
        "plt.xlabel('Predicted')\n",
        "plt.ylabel('Actual')\n",
        "plt.title('Confusion Matrix for Twitter Sentiment Analysis')\n",
        "plt.show()"
      ],
      "metadata": {
        "colab": {
          "base_uri": "https://localhost:8080/",
          "height": 564
        },
        "id": "0WAfNjCe5ZLG",
        "outputId": "075935b3-068c-4594-bfa4-17e38ef8c8ad"
      },
      "execution_count": 50,
      "outputs": [
        {
          "output_type": "display_data",
          "data": {
            "text/plain": [
              "<Figure size 800x600 with 2 Axes>"
            ],
            "image/png": "[encoded data removed]"
          },
          "metadata": {}
        }
      ]
    },
    {
      "cell_type": "markdown",
      "source": [
        "Summary"
      ],
      "metadata": {
        "id": "IS48qbzj6dbq"
      }
    },
    {
      "cell_type": "markdown",
      "source": [
        "The code implements a sentiment analysis pipeline for text data, focusing on Twitter data while also inspecting datasets for apps and user reviews. It begins by loading and inspecting the datasets, addressing missing values through various cleaning techniques. Exploratory Data Analysis (EDA) is conducted with visualizations to understand data distributions. Feature engineering is performed using TF-IDF vectorization on the Twitter text data. The sentiment analysis model is built using a Naive Bayes classifier, trained and evaluated with train-test split data. Model performance is assessed through a confusion matrix and classification report, with results visualized in a heatmap for clear interpretation."
      ],
      "metadata": {
        "id": "skPZMnfZ6cCA"
      }
    }
  ]
}