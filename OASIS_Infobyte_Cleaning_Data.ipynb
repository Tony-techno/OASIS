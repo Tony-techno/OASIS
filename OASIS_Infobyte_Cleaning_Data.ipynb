{
  "nbformat": 4,
  "nbformat_minor": 0,
  "metadata": {
    "colab": {
      "provenance": []
    },
    "kernelspec": {
      "name": "python3",
      "display_name": "Python 3"
    },
    "language_info": {
      "name": "python"
    }
  },
  "cells": [
    {
      "cell_type": "markdown",
      "source": [
        "#**Cleaning Data**"
      ],
      "metadata": {
        "id": "Djz2UKOYqhoG"
      }
    },
    {
      "cell_type": "markdown",
      "source": [
        "Load the Dataset"
      ],
      "metadata": {
        "id": "lSShpijnvzvw"
      }
    },
    {
      "cell_type": "code",
      "execution_count": 1,
      "metadata": {
        "id": "MpTqZEBBqHNX"
      },
      "outputs": [],
      "source": [
        "import pandas as pd\n",
        "from PIL import Image\n",
        "import matplotlib.pyplot as plt"
      ]
    },
    {
      "cell_type": "code",
      "source": [
        "AB_NYC_2019 = pd.read_csv('/content/AB_NYC_2019.csv')"
      ],
      "metadata": {
        "id": "tcroMvJGsbyH"
      },
      "execution_count": 2,
      "outputs": []
    },
    {
      "cell_type": "code",
      "source": [
        "print(AB_NYC_2019.info())"
      ],
      "metadata": {
        "colab": {
          "base_uri": "https://localhost:8080/"
        },
        "id": "yTk9CmjNtxmI",
        "outputId": "9d24d2db-d0bc-4dc8-a281-9531d165f2f7"
      },
      "execution_count": 3,
      "outputs": [
        {
          "output_type": "stream",
          "name": "stdout",
          "text": [
            "<class 'pandas.core.frame.DataFrame'>\n",
            "RangeIndex: 22059 entries, 0 to 22058\n",
            "Data columns (total 16 columns):\n",
            " #   Column                          Non-Null Count  Dtype  \n",
            "---  ------                          --------------  -----  \n",
            " 0   id                              22059 non-null  int64  \n",
            " 1   name                            22044 non-null  object \n",
            " 2   host_id                         22059 non-null  int64  \n",
            " 3   host_name                       22045 non-null  object \n",
            " 4   neighbourhood_group             22059 non-null  object \n",
            " 5   neighbourhood                   22059 non-null  object \n",
            " 6   latitude                        22059 non-null  float64\n",
            " 7   longitude                       22059 non-null  float64\n",
            " 8   room_type                       22058 non-null  object \n",
            " 9   price                           22058 non-null  float64\n",
            " 10  minimum_nights                  22058 non-null  float64\n",
            " 11  number_of_reviews               22058 non-null  float64\n",
            " 12  last_review                     18358 non-null  object \n",
            " 13  reviews_per_month               18358 non-null  float64\n",
            " 14  calculated_host_listings_count  22058 non-null  float64\n",
            " 15  availability_365                22058 non-null  float64\n",
            "dtypes: float64(8), int64(2), object(6)\n",
            "memory usage: 2.7+ MB\n",
            "None\n"
          ]
        }
      ]
    },
    {
      "cell_type": "code",
      "source": [
        "print(AB_NYC_2019.describe)"
      ],
      "metadata": {
        "colab": {
          "base_uri": "https://localhost:8080/"
        },
        "id": "_2rb8qcVt8wF",
        "outputId": "df6ee716-492d-4b72-f44a-2c6d5c64a518"
      },
      "execution_count": 4,
      "outputs": [
        {
          "output_type": "stream",
          "name": "stdout",
          "text": [
            "<bound method NDFrame.describe of              id                                               name    host_id  \\\n",
            "0          2539                 Clean & quiet apt home by the park       2787   \n",
            "1          2595                              Skylit Midtown Castle       2845   \n",
            "2          3647                THE VILLAGE OF HARLEM....NEW YORK !       4632   \n",
            "3          3831                    Cozy Entire Floor of Brownstone       4869   \n",
            "4          5022   Entire Apt: Spacious Studio/Loft by central park       7192   \n",
            "...         ...                                                ...        ...   \n",
            "22054  17744351                1 Bd furnished Bayridge Brooklyn NY  119029523   \n",
            "22055  17746222  Perfect bedroom. Near Subways Columbia CityCol...   16721721   \n",
            "22056  17748284  Guest BedRm in quaint NYC neighborhood. NEAR T...   25196982   \n",
            "22057  17749273                      1 br Woodside - close to LGA!  121096858   \n",
            "22058  17750238          Great room in a spacious Inwood Apartment   13860679   \n",
            "\n",
            "         host_name neighbourhood_group  neighbourhood  latitude  longitude  \\\n",
            "0             John            Brooklyn     Kensington  40.64749  -73.97237   \n",
            "1         Jennifer           Manhattan        Midtown  40.75362  -73.98377   \n",
            "2        Elisabeth           Manhattan         Harlem  40.80902  -73.94190   \n",
            "3      LisaRoxanne            Brooklyn   Clinton Hill  40.68514  -73.95976   \n",
            "4            Laura           Manhattan    East Harlem  40.79851  -73.94399   \n",
            "...            ...                 ...            ...       ...        ...   \n",
            "22054        Ebada            Brooklyn  Fort Hamilton  40.62241  -74.02863   \n",
            "22055     Federico           Manhattan         Harlem  40.81530  -73.95080   \n",
            "22056      Nikolas              Queens        Astoria  40.76924  -73.91702   \n",
            "22057      Caressa              Queens       Woodside  40.74176  -73.90631   \n",
            "22058          Max           Manhattan         Inwood  40.86348  -73.00000   \n",
            "\n",
            "             room_type  price  minimum_nights  number_of_reviews last_review  \\\n",
            "0         Private room  149.0             1.0                9.0  2018-10-19   \n",
            "1      Entire home/apt  225.0             1.0               45.0  2019-05-21   \n",
            "2         Private room  150.0             3.0                0.0         NaN   \n",
            "3      Entire home/apt   89.0             1.0              270.0  2019-07-05   \n",
            "4      Entire home/apt   80.0            10.0                9.0  2018-11-19   \n",
            "...                ...    ...             ...                ...         ...   \n",
            "22054  Entire home/apt  115.0             4.0                3.0  2019-05-19   \n",
            "22055     Private room   65.0             2.0               18.0  2018-11-04   \n",
            "22056     Private room   65.0             1.0               11.0  2019-06-17   \n",
            "22057     Private room   35.0             1.0                0.0         NaN   \n",
            "22058              NaN    NaN             NaN                NaN         NaN   \n",
            "\n",
            "       reviews_per_month  calculated_host_listings_count  availability_365  \n",
            "0                   0.21                             6.0             365.0  \n",
            "1                   0.38                             2.0             355.0  \n",
            "2                    NaN                             1.0             365.0  \n",
            "3                   4.64                             1.0             194.0  \n",
            "4                   0.10                             1.0               0.0  \n",
            "...                  ...                             ...               ...  \n",
            "22054               0.48                             3.0             295.0  \n",
            "22055               0.64                             1.0               0.0  \n",
            "22056               3.24                             1.0               9.0  \n",
            "22057                NaN                             1.0               0.0  \n",
            "22058                NaN                             NaN               NaN  \n",
            "\n",
            "[22059 rows x 16 columns]>\n"
          ]
        }
      ]
    },
    {
      "cell_type": "code",
      "source": [
        "print(AB_NYC_2019.dtypes)"
      ],
      "metadata": {
        "colab": {
          "base_uri": "https://localhost:8080/"
        },
        "id": "FnBr1Y5cuKIN",
        "outputId": "afcf69ca-2e62-4b66-9e86-0de0ce28f3a6"
      },
      "execution_count": 5,
      "outputs": [
        {
          "output_type": "stream",
          "name": "stdout",
          "text": [
            "id                                  int64\n",
            "name                               object\n",
            "host_id                             int64\n",
            "host_name                          object\n",
            "neighbourhood_group                object\n",
            "neighbourhood                      object\n",
            "latitude                          float64\n",
            "longitude                         float64\n",
            "room_type                          object\n",
            "price                             float64\n",
            "minimum_nights                    float64\n",
            "number_of_reviews                 float64\n",
            "last_review                        object\n",
            "reviews_per_month                 float64\n",
            "calculated_host_listings_count    float64\n",
            "availability_365                  float64\n",
            "dtype: object\n"
          ]
        }
      ]
    },
    {
      "cell_type": "code",
      "source": [
        "print(AB_NYC_2019.head())"
      ],
      "metadata": {
        "colab": {
          "base_uri": "https://localhost:8080/"
        },
        "id": "BguJ5HfauM9g",
        "outputId": "91b0cd36-c47e-42a0-8d0c-33a6e57c2d07"
      },
      "execution_count": 6,
      "outputs": [
        {
          "output_type": "stream",
          "name": "stdout",
          "text": [
            "     id                                              name  host_id  \\\n",
            "0  2539                Clean & quiet apt home by the park     2787   \n",
            "1  2595                             Skylit Midtown Castle     2845   \n",
            "2  3647               THE VILLAGE OF HARLEM....NEW YORK !     4632   \n",
            "3  3831                   Cozy Entire Floor of Brownstone     4869   \n",
            "4  5022  Entire Apt: Spacious Studio/Loft by central park     7192   \n",
            "\n",
            "     host_name neighbourhood_group neighbourhood  latitude  longitude  \\\n",
            "0         John            Brooklyn    Kensington  40.64749  -73.97237   \n",
            "1     Jennifer           Manhattan       Midtown  40.75362  -73.98377   \n",
            "2    Elisabeth           Manhattan        Harlem  40.80902  -73.94190   \n",
            "3  LisaRoxanne            Brooklyn  Clinton Hill  40.68514  -73.95976   \n",
            "4        Laura           Manhattan   East Harlem  40.79851  -73.94399   \n",
            "\n",
            "         room_type  price  minimum_nights  number_of_reviews last_review  \\\n",
            "0     Private room  149.0             1.0                9.0  2018-10-19   \n",
            "1  Entire home/apt  225.0             1.0               45.0  2019-05-21   \n",
            "2     Private room  150.0             3.0                0.0         NaN   \n",
            "3  Entire home/apt   89.0             1.0              270.0  2019-07-05   \n",
            "4  Entire home/apt   80.0            10.0                9.0  2018-11-19   \n",
            "\n",
            "   reviews_per_month  calculated_host_listings_count  availability_365  \n",
            "0               0.21                             6.0             365.0  \n",
            "1               0.38                             2.0             355.0  \n",
            "2                NaN                             1.0             365.0  \n",
            "3               4.64                             1.0             194.0  \n",
            "4               0.10                             1.0               0.0  \n"
          ]
        }
      ]
    },
    {
      "cell_type": "code",
      "source": [
        "print(AB_NYC_2019.tail())"
      ],
      "metadata": {
        "colab": {
          "base_uri": "https://localhost:8080/"
        },
        "id": "_inNaT6suP_R",
        "outputId": "2f0c9b8e-b277-4f0d-9276-7c74333e9f57"
      },
      "execution_count": 7,
      "outputs": [
        {
          "output_type": "stream",
          "name": "stdout",
          "text": [
            "             id                                               name    host_id  \\\n",
            "22054  17744351                1 Bd furnished Bayridge Brooklyn NY  119029523   \n",
            "22055  17746222  Perfect bedroom. Near Subways Columbia CityCol...   16721721   \n",
            "22056  17748284  Guest BedRm in quaint NYC neighborhood. NEAR T...   25196982   \n",
            "22057  17749273                      1 br Woodside - close to LGA!  121096858   \n",
            "22058  17750238          Great room in a spacious Inwood Apartment   13860679   \n",
            "\n",
            "      host_name neighbourhood_group  neighbourhood  latitude  longitude  \\\n",
            "22054     Ebada            Brooklyn  Fort Hamilton  40.62241  -74.02863   \n",
            "22055  Federico           Manhattan         Harlem  40.81530  -73.95080   \n",
            "22056   Nikolas              Queens        Astoria  40.76924  -73.91702   \n",
            "22057   Caressa              Queens       Woodside  40.74176  -73.90631   \n",
            "22058       Max           Manhattan         Inwood  40.86348  -73.00000   \n",
            "\n",
            "             room_type  price  minimum_nights  number_of_reviews last_review  \\\n",
            "22054  Entire home/apt  115.0             4.0                3.0  2019-05-19   \n",
            "22055     Private room   65.0             2.0               18.0  2018-11-04   \n",
            "22056     Private room   65.0             1.0               11.0  2019-06-17   \n",
            "22057     Private room   35.0             1.0                0.0         NaN   \n",
            "22058              NaN    NaN             NaN                NaN         NaN   \n",
            "\n",
            "       reviews_per_month  calculated_host_listings_count  availability_365  \n",
            "22054               0.48                             3.0             295.0  \n",
            "22055               0.64                             1.0               0.0  \n",
            "22056               3.24                             1.0               9.0  \n",
            "22057                NaN                             1.0               0.0  \n",
            "22058                NaN                             NaN               NaN  \n"
          ]
        }
      ]
    },
    {
      "cell_type": "markdown",
      "source": [
        "Handle Missing Data"
      ],
      "metadata": {
        "id": "LKIPTK-Ov8oT"
      }
    },
    {
      "cell_type": "code",
      "source": [
        "print(AB_NYC_2019.isnull())"
      ],
      "metadata": {
        "colab": {
          "base_uri": "https://localhost:8080/"
        },
        "id": "Z3MVZ4uHuSfU",
        "outputId": "61848b8e-6a02-42f6-8071-567db801c741"
      },
      "execution_count": 8,
      "outputs": [
        {
          "output_type": "stream",
          "name": "stdout",
          "text": [
            "          id   name  host_id  host_name  neighbourhood_group  neighbourhood  \\\n",
            "0      False  False    False      False                False          False   \n",
            "1      False  False    False      False                False          False   \n",
            "2      False  False    False      False                False          False   \n",
            "3      False  False    False      False                False          False   \n",
            "4      False  False    False      False                False          False   \n",
            "...      ...    ...      ...        ...                  ...            ...   \n",
            "22054  False  False    False      False                False          False   \n",
            "22055  False  False    False      False                False          False   \n",
            "22056  False  False    False      False                False          False   \n",
            "22057  False  False    False      False                False          False   \n",
            "22058  False  False    False      False                False          False   \n",
            "\n",
            "       latitude  longitude  room_type  price  minimum_nights  \\\n",
            "0         False      False      False  False           False   \n",
            "1         False      False      False  False           False   \n",
            "2         False      False      False  False           False   \n",
            "3         False      False      False  False           False   \n",
            "4         False      False      False  False           False   \n",
            "...         ...        ...        ...    ...             ...   \n",
            "22054     False      False      False  False           False   \n",
            "22055     False      False      False  False           False   \n",
            "22056     False      False      False  False           False   \n",
            "22057     False      False      False  False           False   \n",
            "22058     False      False       True   True            True   \n",
            "\n",
            "       number_of_reviews  last_review  reviews_per_month  \\\n",
            "0                  False        False              False   \n",
            "1                  False        False              False   \n",
            "2                  False         True               True   \n",
            "3                  False        False              False   \n",
            "4                  False        False              False   \n",
            "...                  ...          ...                ...   \n",
            "22054              False        False              False   \n",
            "22055              False        False              False   \n",
            "22056              False        False              False   \n",
            "22057              False         True               True   \n",
            "22058               True         True               True   \n",
            "\n",
            "       calculated_host_listings_count  availability_365  \n",
            "0                               False             False  \n",
            "1                               False             False  \n",
            "2                               False             False  \n",
            "3                               False             False  \n",
            "4                               False             False  \n",
            "...                               ...               ...  \n",
            "22054                           False             False  \n",
            "22055                           False             False  \n",
            "22056                           False             False  \n",
            "22057                           False             False  \n",
            "22058                            True              True  \n",
            "\n",
            "[22059 rows x 16 columns]\n"
          ]
        }
      ]
    },
    {
      "cell_type": "code",
      "source": [
        "print(AB_NYC_2019.isnull().sum())"
      ],
      "metadata": {
        "colab": {
          "base_uri": "https://localhost:8080/"
        },
        "id": "qiTd9zG5uV3i",
        "outputId": "77efe179-a01c-4e88-ee48-f62b697d2419"
      },
      "execution_count": 9,
      "outputs": [
        {
          "output_type": "stream",
          "name": "stdout",
          "text": [
            "id                                   0\n",
            "name                                15\n",
            "host_id                              0\n",
            "host_name                           14\n",
            "neighbourhood_group                  0\n",
            "neighbourhood                        0\n",
            "latitude                             0\n",
            "longitude                            0\n",
            "room_type                            1\n",
            "price                                1\n",
            "minimum_nights                       1\n",
            "number_of_reviews                    1\n",
            "last_review                       3701\n",
            "reviews_per_month                 3701\n",
            "calculated_host_listings_count       1\n",
            "availability_365                     1\n",
            "dtype: int64\n"
          ]
        }
      ]
    },
    {
      "cell_type": "code",
      "source": [
        "print(AB_NYC_2019.isnull().sum().sum())"
      ],
      "metadata": {
        "colab": {
          "base_uri": "https://localhost:8080/"
        },
        "id": "LP9pH-RLuYMa",
        "outputId": "88ee73f9-6eca-4fce-fac9-9c8054da735e"
      },
      "execution_count": 10,
      "outputs": [
        {
          "output_type": "stream",
          "name": "stdout",
          "text": [
            "7437\n"
          ]
        }
      ]
    },
    {
      "cell_type": "markdown",
      "source": [
        "Remove Duplicates"
      ],
      "metadata": {
        "id": "2hWPKQCiwBf6"
      }
    },
    {
      "cell_type": "code",
      "source": [
        "AB_NYC_2019 = AB_NYC_2019.drop_duplicates()"
      ],
      "metadata": {
        "id": "A7rZPIQQwH9Q"
      },
      "execution_count": 11,
      "outputs": []
    },
    {
      "cell_type": "code",
      "source": [
        "print(AB_NYC_2019.duplicated().sum())"
      ],
      "metadata": {
        "colab": {
          "base_uri": "https://localhost:8080/"
        },
        "id": "LhzanJlpwF6i",
        "outputId": "ac33605f-f260-4560-f60d-67870180ed27"
      },
      "execution_count": 12,
      "outputs": [
        {
          "output_type": "stream",
          "name": "stdout",
          "text": [
            "0\n"
          ]
        }
      ]
    },
    {
      "cell_type": "markdown",
      "source": [
        "Standardize Data"
      ],
      "metadata": {
        "id": "HmZVlVIQwLfM"
      }
    },
    {
      "cell_type": "markdown",
      "source": [
        "Identify non-numeric values in the latitude column"
      ],
      "metadata": {
        "id": "BtP0MlMjxHmn"
      }
    },
    {
      "cell_type": "code",
      "source": [
        "non_numeric_latitude = AB_NYC_2019[~AB_NYC_2019['latitude'].astype(str).apply(lambda x: x.replace('.', '', 1).isdigit())]"
      ],
      "metadata": {
        "id": "J-nQ1tDLx1hm"
      },
      "execution_count": 13,
      "outputs": []
    },
    {
      "cell_type": "code",
      "source": [
        "print(non_numeric_latitude[['latitude', 'longitude']])"
      ],
      "metadata": {
        "colab": {
          "base_uri": "https://localhost:8080/"
        },
        "id": "Ei998JFsx61F",
        "outputId": "7adb331a-dbed-4e08-b309-c8fa7e5500e6"
      },
      "execution_count": 14,
      "outputs": [
        {
          "output_type": "stream",
          "name": "stdout",
          "text": [
            "Empty DataFrame\n",
            "Columns: [latitude, longitude]\n",
            "Index: []\n"
          ]
        }
      ]
    },
    {
      "cell_type": "markdown",
      "source": [
        "Remove rows with non-numeric latitude values"
      ],
      "metadata": {
        "id": "EjM64bWsSNop"
      }
    },
    {
      "cell_type": "code",
      "source": [
        "AB_NYC_2019_cleaned = AB_NYC_2019[AB_NYC_2019['latitude'].astype(str).apply(lambda x: x.replace('.', '', 1).isdigit())]"
      ],
      "metadata": {
        "id": "AtzMlK5cyHZu"
      },
      "execution_count": 15,
      "outputs": []
    },
    {
      "cell_type": "code",
      "source": [
        "AB_NYC_2019_cleaned['latitude'] = AB_NYC_2019_cleaned['latitude'].astype(float)\n",
        "AB_NYC_2019_cleaned['longitude'] = AB_NYC_2019_cleaned['longitude'].astype(float)"
      ],
      "metadata": {
        "id": "rYCHQuJWw6Td"
      },
      "execution_count": 16,
      "outputs": []
    },
    {
      "cell_type": "markdown",
      "source": [
        "Handle Missing Data"
      ],
      "metadata": {
        "id": "sHeeRETWwZkl"
      }
    },
    {
      "cell_type": "code",
      "source": [
        "AB_NYC_2019_cleaned['reviews_per_month'].fillna(0, inplace=True)\n",
        "AB_NYC_2019_cleaned['last_review'].fillna('No Review', inplace=True)"
      ],
      "metadata": {
        "id": "_nZF9kciwdSr"
      },
      "execution_count": 18,
      "outputs": []
    },
    {
      "cell_type": "markdown",
      "source": [
        "Detect and Handle Outliers"
      ],
      "metadata": {
        "id": "tied5c3WwhhD"
      }
    },
    {
      "cell_type": "markdown",
      "source": [
        "Identify outliers in the 'price' column using IQR"
      ],
      "metadata": {
        "id": "awj3RWHYSdsU"
      }
    },
    {
      "cell_type": "code",
      "source": [
        "Q1 = AB_NYC_2019['price'].quantile(0.25)\n",
        "Q3 = AB_NYC_2019['price'].quantile(0.75)\n",
        "IQR = Q3 - Q1"
      ],
      "metadata": {
        "id": "hjH3NzhHwnwq"
      },
      "execution_count": 19,
      "outputs": []
    },
    {
      "cell_type": "markdown",
      "source": [
        "Define outlier boundaries"
      ],
      "metadata": {
        "id": "Phtj1vK1SgA_"
      }
    },
    {
      "cell_type": "code",
      "source": [
        "lower_bound = Q1 - 1.5 * IQR\n",
        "upper_bound = Q3 + 1.5 * IQR"
      ],
      "metadata": {
        "id": "OJaLyCPFwqB3"
      },
      "execution_count": 20,
      "outputs": []
    },
    {
      "cell_type": "markdown",
      "source": [
        "Filter out outliers"
      ],
      "metadata": {
        "id": "3dY5Sdu4SiGB"
      }
    },
    {
      "cell_type": "code",
      "source": [
        "AB_NYC_2019_cleaned = AB_NYC_2019[(AB_NYC_2019['price'] >= lower_bound) & (AB_NYC_2019['price'] <= upper_bound)]"
      ],
      "metadata": {
        "id": "eUKMAmTKwl5K"
      },
      "execution_count": 21,
      "outputs": []
    },
    {
      "cell_type": "markdown",
      "source": [
        "Verify and Save the Cleaned Data"
      ],
      "metadata": {
        "id": "arGLFnQLwsbx"
      }
    },
    {
      "cell_type": "code",
      "source": [
        "print(AB_NYC_2019_cleaned.info())"
      ],
      "metadata": {
        "colab": {
          "base_uri": "https://localhost:8080/"
        },
        "id": "z9dIEEEQw0eD",
        "outputId": "a1395a11-1f5e-438a-9378-21d96721bf4c"
      },
      "execution_count": 22,
      "outputs": [
        {
          "output_type": "stream",
          "name": "stdout",
          "text": [
            "<class 'pandas.core.frame.DataFrame'>\n",
            "Index: 20868 entries, 0 to 22057\n",
            "Data columns (total 16 columns):\n",
            " #   Column                          Non-Null Count  Dtype  \n",
            "---  ------                          --------------  -----  \n",
            " 0   id                              20868 non-null  int64  \n",
            " 1   name                            20854 non-null  object \n",
            " 2   host_id                         20868 non-null  int64  \n",
            " 3   host_name                       20854 non-null  object \n",
            " 4   neighbourhood_group             20868 non-null  object \n",
            " 5   neighbourhood                   20868 non-null  object \n",
            " 6   latitude                        20868 non-null  float64\n",
            " 7   longitude                       20868 non-null  float64\n",
            " 8   room_type                       20868 non-null  object \n",
            " 9   price                           20868 non-null  float64\n",
            " 10  minimum_nights                  20868 non-null  float64\n",
            " 11  number_of_reviews               20868 non-null  float64\n",
            " 12  last_review                     20868 non-null  object \n",
            " 13  reviews_per_month               20868 non-null  float64\n",
            " 14  calculated_host_listings_count  20868 non-null  float64\n",
            " 15  availability_365                20868 non-null  float64\n",
            "dtypes: float64(8), int64(2), object(6)\n",
            "memory usage: 2.7+ MB\n",
            "None\n"
          ]
        }
      ]
    },
    {
      "cell_type": "code",
      "source": [
        "AB_NYC_2019_cleaned.to_csv('/content/AB_NYC_2019_cleaned.csv', index=False)"
      ],
      "metadata": {
        "id": "xg0wupi_wyyu"
      },
      "execution_count": 23,
      "outputs": []
    }
  ]
}